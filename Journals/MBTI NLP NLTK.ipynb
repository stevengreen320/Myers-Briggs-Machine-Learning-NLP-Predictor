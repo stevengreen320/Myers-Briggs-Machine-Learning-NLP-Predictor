{
 "cells": [
  {
   "cell_type": "code",
   "execution_count": 1,
   "id": "7070ebce",
   "metadata": {},
   "outputs": [],
   "source": [
    "from textblob import TextBlob\n",
    "import pandas as pd\n",
    "import matplotlib.pyplot as plt\n",
    "import os\n",
    "import numpy as np "
   ]
  },
  {
   "cell_type": "code",
   "execution_count": 46,
   "id": "5640afbf",
   "metadata": {},
   "outputs": [],
   "source": [
    "import nltk\n",
    "import re\n",
    "import pickle\n",
    "import gc"
   ]
  },
  {
   "cell_type": "code",
   "execution_count": 3,
   "id": "d59a884b",
   "metadata": {},
   "outputs": [
    {
     "data": {
      "text/html": [
       "<div>\n",
       "<style scoped>\n",
       "    .dataframe tbody tr th:only-of-type {\n",
       "        vertical-align: middle;\n",
       "    }\n",
       "\n",
       "    .dataframe tbody tr th {\n",
       "        vertical-align: top;\n",
       "    }\n",
       "\n",
       "    .dataframe thead th {\n",
       "        text-align: right;\n",
       "    }\n",
       "</style>\n",
       "<table border=\"1\" class=\"dataframe\">\n",
       "  <thead>\n",
       "    <tr style=\"text-align: right;\">\n",
       "      <th></th>\n",
       "      <th>type</th>\n",
       "      <th>posts</th>\n",
       "    </tr>\n",
       "  </thead>\n",
       "  <tbody>\n",
       "    <tr>\n",
       "      <th>0</th>\n",
       "      <td>INFJ</td>\n",
       "      <td>'http://www.youtube.com/watch?v=qsXHcwe3krw|||...</td>\n",
       "    </tr>\n",
       "    <tr>\n",
       "      <th>1</th>\n",
       "      <td>ENTP</td>\n",
       "      <td>'I'm finding the lack of me in these posts ver...</td>\n",
       "    </tr>\n",
       "    <tr>\n",
       "      <th>2</th>\n",
       "      <td>INTP</td>\n",
       "      <td>'Good one  _____   https://www.youtube.com/wat...</td>\n",
       "    </tr>\n",
       "    <tr>\n",
       "      <th>3</th>\n",
       "      <td>INTJ</td>\n",
       "      <td>'Dear INTP,   I enjoyed our conversation the o...</td>\n",
       "    </tr>\n",
       "    <tr>\n",
       "      <th>4</th>\n",
       "      <td>ENTJ</td>\n",
       "      <td>'You're fired.|||That's another silly misconce...</td>\n",
       "    </tr>\n",
       "  </tbody>\n",
       "</table>\n",
       "</div>"
      ],
      "text/plain": [
       "   type                                              posts\n",
       "0  INFJ  'http://www.youtube.com/watch?v=qsXHcwe3krw|||...\n",
       "1  ENTP  'I'm finding the lack of me in these posts ver...\n",
       "2  INTP  'Good one  _____   https://www.youtube.com/wat...\n",
       "3  INTJ  'Dear INTP,   I enjoyed our conversation the o...\n",
       "4  ENTJ  'You're fired.|||That's another silly misconce..."
      ]
     },
     "execution_count": 3,
     "metadata": {},
     "output_type": "execute_result"
    }
   ],
   "source": [
    "df = pd.read_csv(\"mbti_1.csv\")\n",
    "df.head()"
   ]
  },
  {
   "cell_type": "code",
   "execution_count": 4,
   "id": "9433ccf4",
   "metadata": {},
   "outputs": [
    {
     "name": "stdout",
     "output_type": "stream",
     "text": [
      "<class 'pandas.core.frame.DataFrame'>\n",
      "RangeIndex: 8675 entries, 0 to 8674\n",
      "Data columns (total 2 columns):\n",
      " #   Column  Non-Null Count  Dtype \n",
      "---  ------  --------------  ----- \n",
      " 0   type    8675 non-null   object\n",
      " 1   posts   8675 non-null   object\n",
      "dtypes: object(2)\n",
      "memory usage: 135.7+ KB\n"
     ]
    }
   ],
   "source": [
    "df.info()"
   ]
  },
  {
   "cell_type": "code",
   "execution_count": 5,
   "id": "6ee1ff0d",
   "metadata": {},
   "outputs": [
    {
     "data": {
      "text/plain": [
       "'Banned for being too much of a thundering, grumbling kind of storm... yep.'"
      ]
     },
     "execution_count": 5,
     "metadata": {},
     "output_type": "execute_result"
    }
   ],
   "source": [
    "np.random.choice(df.posts[0].split(\"|||\"))"
   ]
  },
  {
   "cell_type": "code",
   "execution_count": 6,
   "id": "f6fda083",
   "metadata": {},
   "outputs": [
    {
     "data": {
      "text/plain": [
       "8675"
      ]
     },
     "execution_count": 6,
     "metadata": {},
     "output_type": "execute_result"
    }
   ],
   "source": [
    "posts = df.posts\n",
    "len(posts)"
   ]
  },
  {
   "cell_type": "code",
   "execution_count": 7,
   "id": "cd3978f6",
   "metadata": {},
   "outputs": [],
   "source": [
    "df[\"single_posts\"] = df.posts.apply(lambda x: np.random.choice(x.split(\"|||\")))"
   ]
  },
  {
   "cell_type": "code",
   "execution_count": 47,
   "id": "418a5a2f",
   "metadata": {},
   "outputs": [
    {
     "data": {
      "text/plain": [
       "3693"
      ]
     },
     "execution_count": 47,
     "metadata": {},
     "output_type": "execute_result"
    }
   ],
   "source": [
    "df2 = df.loc[:, [\"type\", \"single_posts\"]]\n",
    "del df\n",
    "gc.collect()"
   ]
  },
  {
   "cell_type": "markdown",
   "id": "60b2fa9c",
   "metadata": {},
   "source": [
    "Clean Data using lambda"
   ]
  },
  {
   "cell_type": "code",
   "execution_count": 48,
   "id": "d3c48516",
   "metadata": {},
   "outputs": [
    {
     "data": {
      "text/plain": [
       "0         when your main social outlet is xbox live ...\n",
       "1     not really  i ve never thought of e i or j p a...\n",
       "2                                                      \n",
       "3     i am both annoyed and intrigued by xxfps   as ...\n",
       "4                           http   youtu be pzbqamewtoe\n",
       "5     i did not say it disproved god  i merely said ...\n",
       "6     i think infjs sometimes need to be kicked out ...\n",
       "7     yes i would say i am  more than physical appea...\n",
       "8           https   www youtube com watch v pule   yro \n",
       "9     galumphing on the net  drowning myself in musi...\n",
       "10    i don t have a fb profile   it s definitely ba...\n",
       "11                                           welcome   \n",
       "12    dear istp you amaze me by being one of the few...\n",
       "13    nfs  especially infjs   xntps  esfxs are proba...\n",
       "14    i believe emotions are a choice that is made b...\n",
       "15    i support this  my phone has affected my life ...\n",
       "16    on paper it does seem heartless  but i think i...\n",
       "17    well  i tend to be kind of    over confident  ...\n",
       "18    okay  but what with the world being bullshit  ...\n",
       "19    at this  job got up and tore his robe and shav...\n",
       "20    it s cause you spend all your time irl ignorin...\n",
       "21    do you think an infj would act like this    ht...\n",
       "22    i m mostly into two completely different games...\n",
       "23      infp  what is your spirit animal      and why  \n",
       "24    so we should make it a form with some sort of ...\n",
       "25    so is what you believe in by saying that   now...\n",
       "26    i m     exactly  so the    or so pounds show u...\n",
       "27    he he maybe soo   well with your patter you go...\n",
       "28    the thing is  i keep wondering if it is better...\n",
       "29    i definitely can see people s auras  typically...\n",
       "Name: clean_text, dtype: object"
      ]
     },
     "execution_count": 48,
     "metadata": {},
     "output_type": "execute_result"
    }
   ],
   "source": [
    "df2['clean_text'] = (df2['single_posts'].apply(lambda x: re.sub('[^a-zA-Z]', ' ', x).lower()))\n",
    "df2.clean_text.head(30)"
   ]
  },
  {
   "cell_type": "code",
   "execution_count": 18,
   "id": "23e69653",
   "metadata": {},
   "outputs": [
    {
     "name": "stderr",
     "output_type": "stream",
     "text": [
      "[nltk_data] Downloading package words to\n",
      "[nltk_data]     C:\\Users\\xengo\\AppData\\Roaming\\nltk_data...\n",
      "[nltk_data]   Package words is already up-to-date!\n"
     ]
    },
    {
     "data": {
      "text/plain": [
       "True"
      ]
     },
     "execution_count": 18,
     "metadata": {},
     "output_type": "execute_result"
    }
   ],
   "source": [
    "nltk.download('words')"
   ]
  },
  {
   "cell_type": "code",
   "execution_count": 49,
   "id": "96256920",
   "metadata": {},
   "outputs": [],
   "source": [
    "words = set(nltk.corpus.words.words())\n",
    "\n",
    "def clean_sent(sent):\n",
    "    return \" \".join(w for w in nltk.wordpunct_tokenize(sent) \\\n",
    "     if w.lower() in words or not w.isalpha())\n",
    "\n",
    "df2['clean_text'] = df2['clean_text'].apply(clean_sent)"
   ]
  },
  {
   "cell_type": "markdown",
   "id": "d2e3adef",
   "metadata": {},
   "source": [
    "Tokenize posts using lambda"
   ]
  },
  {
   "cell_type": "code",
   "execution_count": 50,
   "id": "7ca7b70b",
   "metadata": {},
   "outputs": [],
   "source": [
    "df2['tokenized_posts'] = df2.apply(lambda row: nltk.word_tokenize(row['clean_text']), axis=1)"
   ]
  },
  {
   "cell_type": "code",
   "execution_count": 51,
   "id": "06e4b0bd",
   "metadata": {},
   "outputs": [
    {
     "data": {
      "text/plain": [
       "0       [when, your, main, social, outlet, is, live, a...\n",
       "1       [not, really, i, never, thought, of, e, i, or,...\n",
       "2                                                      []\n",
       "3       [i, am, both, and, by, as, far, as, i, can, te...\n",
       "4                                                    [be]\n",
       "                              ...                        \n",
       "8670    [by, being, white, and, not, i, am, to, white,...\n",
       "8671    [rune, that, is, an, awesome, photo, e, card, ...\n",
       "8672                                     [free, for, all]\n",
       "8673    [if, i, had, to, guess, for, my, i, don, t, kn...\n",
       "8674    [i, would, be, with, the, tenth, all, the, way...\n",
       "Name: tokenized_posts, Length: 8675, dtype: object"
      ]
     },
     "execution_count": 51,
     "metadata": {},
     "output_type": "execute_result"
    }
   ],
   "source": [
    "df2['tokenized_posts']"
   ]
  },
  {
   "cell_type": "code",
   "execution_count": 22,
   "id": "fa94bcec",
   "metadata": {},
   "outputs": [
    {
     "data": {
      "text/plain": [
       "8675"
      ]
     },
     "execution_count": 22,
     "metadata": {},
     "output_type": "execute_result"
    }
   ],
   "source": [
    "len(df2.tokenized_posts)"
   ]
  },
  {
   "cell_type": "code",
   "execution_count": 52,
   "id": "8ffcdae9",
   "metadata": {},
   "outputs": [
    {
     "name": "stdout",
     "output_type": "stream",
     "text": [
      "<class 'pandas.core.frame.DataFrame'>\n",
      "RangeIndex: 8675 entries, 0 to 8674\n",
      "Data columns (total 4 columns):\n",
      " #   Column           Non-Null Count  Dtype \n",
      "---  ------           --------------  ----- \n",
      " 0   type             8675 non-null   object\n",
      " 1   single_posts     8675 non-null   object\n",
      " 2   clean_text       8675 non-null   object\n",
      " 3   tokenized_posts  8675 non-null   object\n",
      "dtypes: object(4)\n",
      "memory usage: 271.2+ KB\n"
     ]
    }
   ],
   "source": [
    "df2.info()"
   ]
  },
  {
   "cell_type": "code",
   "execution_count": 53,
   "id": "4ed53a66",
   "metadata": {},
   "outputs": [
    {
     "data": {
      "text/html": [
       "<div>\n",
       "<style scoped>\n",
       "    .dataframe tbody tr th:only-of-type {\n",
       "        vertical-align: middle;\n",
       "    }\n",
       "\n",
       "    .dataframe tbody tr th {\n",
       "        vertical-align: top;\n",
       "    }\n",
       "\n",
       "    .dataframe thead th {\n",
       "        text-align: right;\n",
       "    }\n",
       "</style>\n",
       "<table border=\"1\" class=\"dataframe\">\n",
       "  <thead>\n",
       "    <tr style=\"text-align: right;\">\n",
       "      <th></th>\n",
       "      <th>type</th>\n",
       "      <th>single_posts</th>\n",
       "      <th>clean_text</th>\n",
       "      <th>tokenized_posts</th>\n",
       "    </tr>\n",
       "  </thead>\n",
       "  <tbody>\n",
       "    <tr>\n",
       "      <th>0</th>\n",
       "      <td>INFJ</td>\n",
       "      <td>... when your main social outlet is xbox live ...</td>\n",
       "      <td>when your main social outlet is live and even ...</td>\n",
       "      <td>[when, your, main, social, outlet, is, live, a...</td>\n",
       "    </tr>\n",
       "    <tr>\n",
       "      <th>1</th>\n",
       "      <td>ENTP</td>\n",
       "      <td>Not really; I've never thought of E/I or J/P a...</td>\n",
       "      <td>not really i never thought of e i or j p as re...</td>\n",
       "      <td>[not, really, i, never, thought, of, e, i, or,...</td>\n",
       "    </tr>\n",
       "    <tr>\n",
       "      <th>2</th>\n",
       "      <td>INTP</td>\n",
       "      <td>256818</td>\n",
       "      <td></td>\n",
       "      <td>[]</td>\n",
       "    </tr>\n",
       "    <tr>\n",
       "      <th>3</th>\n",
       "      <td>INTJ</td>\n",
       "      <td>I am both annoyed and intrigued by xxFPs.  As ...</td>\n",
       "      <td>i am both and by as far as i can tell i dislik...</td>\n",
       "      <td>[i, am, both, and, by, as, far, as, i, can, te...</td>\n",
       "    </tr>\n",
       "    <tr>\n",
       "      <th>4</th>\n",
       "      <td>ENTJ</td>\n",
       "      <td>http://youtu.be/PZbqAMEwtOE</td>\n",
       "      <td>be</td>\n",
       "      <td>[be]</td>\n",
       "    </tr>\n",
       "  </tbody>\n",
       "</table>\n",
       "</div>"
      ],
      "text/plain": [
       "   type                                       single_posts  \\\n",
       "0  INFJ  ... when your main social outlet is xbox live ...   \n",
       "1  ENTP  Not really; I've never thought of E/I or J/P a...   \n",
       "2  INTP                                             256818   \n",
       "3  INTJ  I am both annoyed and intrigued by xxFPs.  As ...   \n",
       "4  ENTJ                        http://youtu.be/PZbqAMEwtOE   \n",
       "\n",
       "                                          clean_text  \\\n",
       "0  when your main social outlet is live and even ...   \n",
       "1  not really i never thought of e i or j p as re...   \n",
       "2                                                      \n",
       "3  i am both and by as far as i can tell i dislik...   \n",
       "4                                                 be   \n",
       "\n",
       "                                     tokenized_posts  \n",
       "0  [when, your, main, social, outlet, is, live, a...  \n",
       "1  [not, really, i, never, thought, of, e, i, or,...  \n",
       "2                                                 []  \n",
       "3  [i, am, both, and, by, as, far, as, i, can, te...  \n",
       "4                                               [be]  "
      ]
     },
     "execution_count": 53,
     "metadata": {},
     "output_type": "execute_result"
    }
   ],
   "source": [
    "df2.head()"
   ]
  },
  {
   "cell_type": "markdown",
   "id": "f2499e5c",
   "metadata": {},
   "source": [
    "Use lambda to get rid of stopwords. then run allwords again"
   ]
  },
  {
   "cell_type": "code",
   "execution_count": 25,
   "id": "41eaf399",
   "metadata": {},
   "outputs": [],
   "source": [
    "from nltk.corpus import stopwords\n",
    "stop_words=set(stopwords.words(\"english\"))"
   ]
  },
  {
   "cell_type": "code",
   "execution_count": 54,
   "id": "ff1a4b7f",
   "metadata": {},
   "outputs": [],
   "source": [
    "allwords =[]\n",
    "\n",
    "\n",
    "for x in df2.tokenized_posts:\n",
    "    allwords.extend(x)\n"
   ]
  },
  {
   "cell_type": "code",
   "execution_count": 55,
   "id": "3d4b8ad0",
   "metadata": {},
   "outputs": [],
   "source": [
    "filtered_posts=[ w for w in allwords if w not in stop_words ]"
   ]
  },
  {
   "cell_type": "code",
   "execution_count": 56,
   "id": "040b543d",
   "metadata": {},
   "outputs": [
    {
     "data": {
      "text/plain": [
       "'social'"
      ]
     },
     "execution_count": 56,
     "metadata": {},
     "output_type": "execute_result"
    }
   ],
   "source": [
    "filtered_posts[1]"
   ]
  },
  {
   "cell_type": "code",
   "execution_count": null,
   "id": "c55e9ef6",
   "metadata": {},
   "outputs": [],
   "source": []
  },
  {
   "cell_type": "markdown",
   "id": "b02abd01",
   "metadata": {},
   "source": [
    "Frequency Distribution"
   ]
  },
  {
   "cell_type": "code",
   "execution_count": 57,
   "id": "06856ad3",
   "metadata": {},
   "outputs": [],
   "source": [
    "from nltk.probability import FreqDist"
   ]
  },
  {
   "cell_type": "code",
   "execution_count": 58,
   "id": "df489132",
   "metadata": {},
   "outputs": [
    {
     "name": "stdout",
     "output_type": "stream",
     "text": [
      "<FreqDist with 8290 samples and 87830 outcomes>\n"
     ]
    },
    {
     "data": {
      "text/plain": [
       "[('like', 1452),\n",
       " ('think', 1032),\n",
       " ('people', 969),\n",
       " ('one', 785),\n",
       " ('know', 737),\n",
       " ('really', 724),\n",
       " ('would', 689),\n",
       " ('get', 634),\n",
       " ('time', 560),\n",
       " ('well', 496)]"
      ]
     },
     "execution_count": 58,
     "metadata": {},
     "output_type": "execute_result"
    }
   ],
   "source": [
    "fdist = FreqDist(filtered_posts)\n",
    "print(fdist)\n",
    "fdist.most_common(10)"
   ]
  },
  {
   "cell_type": "code",
   "execution_count": 59,
   "id": "cb2851fa",
   "metadata": {},
   "outputs": [
    {
     "data": {
      "image/png": "[encoded data removed]",
      "text/plain": [
       "<Figure size 432x288 with 1 Axes>"
      ]
     },
     "metadata": {
      "needs_background": "light"
     },
     "output_type": "display_data"
    }
   ],
   "source": [
    "fdist.plot(10,cumulative=False)\n",
    "plt.show()"
   ]
  },
  {
   "cell_type": "code",
   "execution_count": 60,
   "id": "abaf7698",
   "metadata": {},
   "outputs": [],
   "source": [
    "from nltk.stem import WordNetLemmatizer \n",
    "# Init the Wordnet Lemmatizer\n",
    "lem = WordNetLemmatizer()\n",
    "\n",
    "lemma_words=[(lem.lemmatize(w,\"v\")) for w in filtered_posts]"
   ]
  },
  {
   "cell_type": "code",
   "execution_count": null,
   "id": "4c91732f",
   "metadata": {},
   "outputs": [],
   "source": [
    "# print(len(lemma_words))\n",
    "# print(len(filtered_posts))"
   ]
  },
  {
   "cell_type": "code",
   "execution_count": 61,
   "id": "df280c5c",
   "metadata": {},
   "outputs": [
    {
     "name": "stdout",
     "output_type": "stream",
     "text": [
      "<FreqDist with 7362 samples and 87830 outcomes>\n"
     ]
    },
    {
     "data": {
      "text/plain": [
       "[('like', 1462),\n",
       " ('think', 1407),\n",
       " ('get', 973),\n",
       " ('people', 969),\n",
       " ('know', 836),\n",
       " ('one', 785),\n",
       " ('really', 724),\n",
       " ('say', 712),\n",
       " ('go', 704),\n",
       " ('would', 689)]"
      ]
     },
     "execution_count": 61,
     "metadata": {},
     "output_type": "execute_result"
    }
   ],
   "source": [
    "fdist3 = FreqDist(lemma_words)\n",
    "print(fdist3)\n",
    "fdist3.most_common(10)"
   ]
  },
  {
   "cell_type": "code",
   "execution_count": 62,
   "id": "fa872602",
   "metadata": {},
   "outputs": [
    {
     "data": {
      "image/png": "[encoded data removed]",
      "text/plain": [
       "<Figure size 432x288 with 1 Axes>"
      ]
     },
     "metadata": {
      "needs_background": "light"
     },
     "output_type": "display_data"
    }
   ],
   "source": [
    "fdist3.plot(10,cumulative=False)\n",
    "plt.show()"
   ]
  },
  {
   "cell_type": "code",
   "execution_count": 82,
   "id": "5d03e7fe",
   "metadata": {},
   "outputs": [],
   "source": [
    "lemma_words2 = list(filter(lambda x: x[1]>1, fdist3.items()))\n",
    "lemma_words2 = [x[0] for x in lemma_words2]"
   ]
  },
  {
   "cell_type": "code",
   "execution_count": 83,
   "id": "9d00cc0e",
   "metadata": {},
   "outputs": [
    {
     "data": {
      "text/plain": [
       "'main'"
      ]
     },
     "execution_count": 83,
     "metadata": {},
     "output_type": "execute_result"
    }
   ],
   "source": [
    "lemma_words2[0]\n"
   ]
  },
  {
   "cell_type": "code",
   "execution_count": 84,
   "id": "847339ab",
   "metadata": {},
   "outputs": [],
   "source": [
    "# lemma_words_pos = nltk.pos_tag(lemma_words)"
   ]
  },
  {
   "cell_type": "markdown",
   "id": "608b07ab",
   "metadata": {},
   "source": [
    "Creating Feature Generation for TD-IDF analysis"
   ]
  },
  {
   "cell_type": "code",
   "execution_count": 85,
   "id": "f3fac8f6",
   "metadata": {},
   "outputs": [
    {
     "data": {
      "text/plain": [
       "4343"
      ]
     },
     "execution_count": 85,
     "metadata": {},
     "output_type": "execute_result"
    }
   ],
   "source": [
    "len(lemma_words2)"
   ]
  },
  {
   "cell_type": "code",
   "execution_count": 86,
   "id": "0b80c288",
   "metadata": {},
   "outputs": [],
   "source": [
    "from sklearn.feature_extraction.text import CountVectorizer\n",
    "\n",
    "cv = CountVectorizer(stop_words='english')\n",
    "text_counts= cv.fit_transform(lemma_words2)"
   ]
  },
  {
   "cell_type": "code",
   "execution_count": 87,
   "id": "10dcf58c",
   "metadata": {},
   "outputs": [],
   "source": [
    "# print(cv.get_feature_names())\n",
    "# print(text_counts.toarray())"
   ]
  },
  {
   "cell_type": "code",
   "execution_count": 88,
   "id": "288cbdff",
   "metadata": {},
   "outputs": [],
   "source": [
    "dtm = pd.DataFrame(text_counts.toarray(), columns=cv.get_feature_names())\n"
   ]
  },
  {
   "cell_type": "markdown",
   "id": "ab84ba28",
   "metadata": {},
   "source": [
    " Feature Generation using TF-IDF"
   ]
  },
  {
   "cell_type": "code",
   "execution_count": 97,
   "id": "1424ec5e",
   "metadata": {},
   "outputs": [],
   "source": [
    "from sklearn.feature_extraction.text import TfidfVectorizer\n",
    "\n",
    "tf=TfidfVectorizer()\n",
    "text_tf= tf.fit_transform(lemma_words2)"
   ]
  },
  {
   "cell_type": "code",
   "execution_count": 98,
   "id": "6e0a3636",
   "metadata": {},
   "outputs": [],
   "source": [
    "tf_df = pd.DataFrame(text_tf.toarray(), columns=tf.get_feature_names())\n"
   ]
  },
  {
   "cell_type": "code",
   "execution_count": 99,
   "id": "4ef7b95d",
   "metadata": {},
   "outputs": [],
   "source": [
    "sentiments = [((TextBlob(phrase).sentiment.polarity)) for phrase in lemma_words2 ]\n",
    "\n",
    "tf_df[\"Sentiment\"] = sentiments"
   ]
  },
  {
   "cell_type": "code",
   "execution_count": 100,
   "id": "b25b731e",
   "metadata": {},
   "outputs": [
    {
     "data": {
      "text/html": [
       "<div>\n",
       "<style scoped>\n",
       "    .dataframe tbody tr th:only-of-type {\n",
       "        vertical-align: middle;\n",
       "    }\n",
       "\n",
       "    .dataframe tbody tr th {\n",
       "        vertical-align: top;\n",
       "    }\n",
       "\n",
       "    .dataframe thead th {\n",
       "        text-align: right;\n",
       "    }\n",
       "</style>\n",
       "<table border=\"1\" class=\"dataframe\">\n",
       "  <thead>\n",
       "    <tr style=\"text-align: right;\">\n",
       "      <th></th>\n",
       "      <th>aa</th>\n",
       "      <th>abandon</th>\n",
       "      <th>ability</th>\n",
       "      <th>able</th>\n",
       "      <th>abnormal</th>\n",
       "      <th>aboard</th>\n",
       "      <th>abortion</th>\n",
       "      <th>abroad</th>\n",
       "      <th>absence</th>\n",
       "      <th>absent</th>\n",
       "      <th>...</th>\n",
       "      <th>yoga</th>\n",
       "      <th>young</th>\n",
       "      <th>younger</th>\n",
       "      <th>youth</th>\n",
       "      <th>zero</th>\n",
       "      <th>zombie</th>\n",
       "      <th>zone</th>\n",
       "      <th>zoo</th>\n",
       "      <th>zoom</th>\n",
       "      <th>Sentiment</th>\n",
       "    </tr>\n",
       "  </thead>\n",
       "  <tbody>\n",
       "    <tr>\n",
       "      <th>0</th>\n",
       "      <td>0.0</td>\n",
       "      <td>0.0</td>\n",
       "      <td>0.0</td>\n",
       "      <td>0.0</td>\n",
       "      <td>0.0</td>\n",
       "      <td>0.0</td>\n",
       "      <td>0.0</td>\n",
       "      <td>0.0</td>\n",
       "      <td>0.0</td>\n",
       "      <td>0.0</td>\n",
       "      <td>...</td>\n",
       "      <td>0.0</td>\n",
       "      <td>0.0</td>\n",
       "      <td>0.0</td>\n",
       "      <td>0.0</td>\n",
       "      <td>0.0</td>\n",
       "      <td>0.0</td>\n",
       "      <td>0.0</td>\n",
       "      <td>0.0</td>\n",
       "      <td>0.0</td>\n",
       "      <td>0.166667</td>\n",
       "    </tr>\n",
       "    <tr>\n",
       "      <th>1</th>\n",
       "      <td>0.0</td>\n",
       "      <td>0.0</td>\n",
       "      <td>0.0</td>\n",
       "      <td>0.0</td>\n",
       "      <td>0.0</td>\n",
       "      <td>0.0</td>\n",
       "      <td>0.0</td>\n",
       "      <td>0.0</td>\n",
       "      <td>0.0</td>\n",
       "      <td>0.0</td>\n",
       "      <td>...</td>\n",
       "      <td>0.0</td>\n",
       "      <td>0.0</td>\n",
       "      <td>0.0</td>\n",
       "      <td>0.0</td>\n",
       "      <td>0.0</td>\n",
       "      <td>0.0</td>\n",
       "      <td>0.0</td>\n",
       "      <td>0.0</td>\n",
       "      <td>0.0</td>\n",
       "      <td>0.033333</td>\n",
       "    </tr>\n",
       "    <tr>\n",
       "      <th>2</th>\n",
       "      <td>0.0</td>\n",
       "      <td>0.0</td>\n",
       "      <td>0.0</td>\n",
       "      <td>0.0</td>\n",
       "      <td>0.0</td>\n",
       "      <td>0.0</td>\n",
       "      <td>0.0</td>\n",
       "      <td>0.0</td>\n",
       "      <td>0.0</td>\n",
       "      <td>0.0</td>\n",
       "      <td>...</td>\n",
       "      <td>0.0</td>\n",
       "      <td>0.0</td>\n",
       "      <td>0.0</td>\n",
       "      <td>0.0</td>\n",
       "      <td>0.0</td>\n",
       "      <td>0.0</td>\n",
       "      <td>0.0</td>\n",
       "      <td>0.0</td>\n",
       "      <td>0.0</td>\n",
       "      <td>0.000000</td>\n",
       "    </tr>\n",
       "    <tr>\n",
       "      <th>3</th>\n",
       "      <td>0.0</td>\n",
       "      <td>0.0</td>\n",
       "      <td>0.0</td>\n",
       "      <td>0.0</td>\n",
       "      <td>0.0</td>\n",
       "      <td>0.0</td>\n",
       "      <td>0.0</td>\n",
       "      <td>0.0</td>\n",
       "      <td>0.0</td>\n",
       "      <td>0.0</td>\n",
       "      <td>...</td>\n",
       "      <td>0.0</td>\n",
       "      <td>0.0</td>\n",
       "      <td>0.0</td>\n",
       "      <td>0.0</td>\n",
       "      <td>0.0</td>\n",
       "      <td>0.0</td>\n",
       "      <td>0.0</td>\n",
       "      <td>0.0</td>\n",
       "      <td>0.0</td>\n",
       "      <td>0.136364</td>\n",
       "    </tr>\n",
       "    <tr>\n",
       "      <th>4</th>\n",
       "      <td>0.0</td>\n",
       "      <td>0.0</td>\n",
       "      <td>0.0</td>\n",
       "      <td>0.0</td>\n",
       "      <td>0.0</td>\n",
       "      <td>0.0</td>\n",
       "      <td>0.0</td>\n",
       "      <td>0.0</td>\n",
       "      <td>0.0</td>\n",
       "      <td>0.0</td>\n",
       "      <td>...</td>\n",
       "      <td>0.0</td>\n",
       "      <td>0.0</td>\n",
       "      <td>0.0</td>\n",
       "      <td>0.0</td>\n",
       "      <td>0.0</td>\n",
       "      <td>0.0</td>\n",
       "      <td>0.0</td>\n",
       "      <td>0.0</td>\n",
       "      <td>0.0</td>\n",
       "      <td>0.000000</td>\n",
       "    </tr>\n",
       "    <tr>\n",
       "      <th>5</th>\n",
       "      <td>0.0</td>\n",
       "      <td>0.0</td>\n",
       "      <td>0.0</td>\n",
       "      <td>0.0</td>\n",
       "      <td>0.0</td>\n",
       "      <td>0.0</td>\n",
       "      <td>0.0</td>\n",
       "      <td>0.0</td>\n",
       "      <td>0.0</td>\n",
       "      <td>0.0</td>\n",
       "      <td>...</td>\n",
       "      <td>0.0</td>\n",
       "      <td>0.0</td>\n",
       "      <td>0.0</td>\n",
       "      <td>0.0</td>\n",
       "      <td>0.0</td>\n",
       "      <td>0.0</td>\n",
       "      <td>0.0</td>\n",
       "      <td>0.0</td>\n",
       "      <td>0.0</td>\n",
       "      <td>0.000000</td>\n",
       "    </tr>\n",
       "    <tr>\n",
       "      <th>6</th>\n",
       "      <td>0.0</td>\n",
       "      <td>0.0</td>\n",
       "      <td>0.0</td>\n",
       "      <td>0.0</td>\n",
       "      <td>0.0</td>\n",
       "      <td>0.0</td>\n",
       "      <td>0.0</td>\n",
       "      <td>0.0</td>\n",
       "      <td>0.0</td>\n",
       "      <td>0.0</td>\n",
       "      <td>...</td>\n",
       "      <td>0.0</td>\n",
       "      <td>0.0</td>\n",
       "      <td>0.0</td>\n",
       "      <td>0.0</td>\n",
       "      <td>0.0</td>\n",
       "      <td>0.0</td>\n",
       "      <td>0.0</td>\n",
       "      <td>0.0</td>\n",
       "      <td>0.0</td>\n",
       "      <td>0.000000</td>\n",
       "    </tr>\n",
       "    <tr>\n",
       "      <th>7</th>\n",
       "      <td>0.0</td>\n",
       "      <td>0.0</td>\n",
       "      <td>0.0</td>\n",
       "      <td>0.0</td>\n",
       "      <td>0.0</td>\n",
       "      <td>0.0</td>\n",
       "      <td>0.0</td>\n",
       "      <td>0.0</td>\n",
       "      <td>0.0</td>\n",
       "      <td>0.0</td>\n",
       "      <td>...</td>\n",
       "      <td>0.0</td>\n",
       "      <td>0.0</td>\n",
       "      <td>0.0</td>\n",
       "      <td>0.0</td>\n",
       "      <td>0.0</td>\n",
       "      <td>0.0</td>\n",
       "      <td>0.0</td>\n",
       "      <td>0.0</td>\n",
       "      <td>0.0</td>\n",
       "      <td>0.333333</td>\n",
       "    </tr>\n",
       "    <tr>\n",
       "      <th>8</th>\n",
       "      <td>0.0</td>\n",
       "      <td>0.0</td>\n",
       "      <td>0.0</td>\n",
       "      <td>0.0</td>\n",
       "      <td>0.0</td>\n",
       "      <td>0.0</td>\n",
       "      <td>0.0</td>\n",
       "      <td>0.0</td>\n",
       "      <td>0.0</td>\n",
       "      <td>0.0</td>\n",
       "      <td>...</td>\n",
       "      <td>0.0</td>\n",
       "      <td>0.0</td>\n",
       "      <td>0.0</td>\n",
       "      <td>0.0</td>\n",
       "      <td>0.0</td>\n",
       "      <td>0.0</td>\n",
       "      <td>0.0</td>\n",
       "      <td>0.0</td>\n",
       "      <td>0.0</td>\n",
       "      <td>0.200000</td>\n",
       "    </tr>\n",
       "    <tr>\n",
       "      <th>9</th>\n",
       "      <td>0.0</td>\n",
       "      <td>0.0</td>\n",
       "      <td>0.0</td>\n",
       "      <td>0.0</td>\n",
       "      <td>0.0</td>\n",
       "      <td>0.0</td>\n",
       "      <td>0.0</td>\n",
       "      <td>0.0</td>\n",
       "      <td>0.0</td>\n",
       "      <td>0.0</td>\n",
       "      <td>...</td>\n",
       "      <td>0.0</td>\n",
       "      <td>0.0</td>\n",
       "      <td>0.0</td>\n",
       "      <td>0.0</td>\n",
       "      <td>0.0</td>\n",
       "      <td>0.0</td>\n",
       "      <td>0.0</td>\n",
       "      <td>0.0</td>\n",
       "      <td>0.0</td>\n",
       "      <td>0.000000</td>\n",
       "    </tr>\n",
       "    <tr>\n",
       "      <th>10</th>\n",
       "      <td>0.0</td>\n",
       "      <td>0.0</td>\n",
       "      <td>0.0</td>\n",
       "      <td>0.0</td>\n",
       "      <td>0.0</td>\n",
       "      <td>0.0</td>\n",
       "      <td>0.0</td>\n",
       "      <td>0.0</td>\n",
       "      <td>0.0</td>\n",
       "      <td>0.0</td>\n",
       "      <td>...</td>\n",
       "      <td>0.0</td>\n",
       "      <td>0.0</td>\n",
       "      <td>0.0</td>\n",
       "      <td>0.0</td>\n",
       "      <td>0.0</td>\n",
       "      <td>0.0</td>\n",
       "      <td>0.0</td>\n",
       "      <td>0.0</td>\n",
       "      <td>0.0</td>\n",
       "      <td>0.000000</td>\n",
       "    </tr>\n",
       "    <tr>\n",
       "      <th>11</th>\n",
       "      <td>0.0</td>\n",
       "      <td>0.0</td>\n",
       "      <td>0.0</td>\n",
       "      <td>0.0</td>\n",
       "      <td>0.0</td>\n",
       "      <td>0.0</td>\n",
       "      <td>0.0</td>\n",
       "      <td>0.0</td>\n",
       "      <td>0.0</td>\n",
       "      <td>0.0</td>\n",
       "      <td>...</td>\n",
       "      <td>0.0</td>\n",
       "      <td>0.0</td>\n",
       "      <td>0.0</td>\n",
       "      <td>0.0</td>\n",
       "      <td>0.0</td>\n",
       "      <td>0.0</td>\n",
       "      <td>0.0</td>\n",
       "      <td>0.0</td>\n",
       "      <td>0.0</td>\n",
       "      <td>0.000000</td>\n",
       "    </tr>\n",
       "    <tr>\n",
       "      <th>12</th>\n",
       "      <td>0.0</td>\n",
       "      <td>0.0</td>\n",
       "      <td>0.0</td>\n",
       "      <td>0.0</td>\n",
       "      <td>0.0</td>\n",
       "      <td>0.0</td>\n",
       "      <td>0.0</td>\n",
       "      <td>0.0</td>\n",
       "      <td>0.0</td>\n",
       "      <td>0.0</td>\n",
       "      <td>...</td>\n",
       "      <td>0.0</td>\n",
       "      <td>0.0</td>\n",
       "      <td>0.0</td>\n",
       "      <td>0.0</td>\n",
       "      <td>0.0</td>\n",
       "      <td>0.0</td>\n",
       "      <td>0.0</td>\n",
       "      <td>0.0</td>\n",
       "      <td>0.0</td>\n",
       "      <td>0.000000</td>\n",
       "    </tr>\n",
       "    <tr>\n",
       "      <th>13</th>\n",
       "      <td>0.0</td>\n",
       "      <td>0.0</td>\n",
       "      <td>0.0</td>\n",
       "      <td>0.0</td>\n",
       "      <td>0.0</td>\n",
       "      <td>0.0</td>\n",
       "      <td>0.0</td>\n",
       "      <td>0.0</td>\n",
       "      <td>0.0</td>\n",
       "      <td>0.0</td>\n",
       "      <td>...</td>\n",
       "      <td>0.0</td>\n",
       "      <td>0.0</td>\n",
       "      <td>0.0</td>\n",
       "      <td>0.0</td>\n",
       "      <td>0.0</td>\n",
       "      <td>0.0</td>\n",
       "      <td>0.0</td>\n",
       "      <td>0.0</td>\n",
       "      <td>0.0</td>\n",
       "      <td>0.000000</td>\n",
       "    </tr>\n",
       "    <tr>\n",
       "      <th>14</th>\n",
       "      <td>0.0</td>\n",
       "      <td>0.0</td>\n",
       "      <td>0.0</td>\n",
       "      <td>0.0</td>\n",
       "      <td>0.0</td>\n",
       "      <td>0.0</td>\n",
       "      <td>0.0</td>\n",
       "      <td>0.0</td>\n",
       "      <td>0.0</td>\n",
       "      <td>0.0</td>\n",
       "      <td>...</td>\n",
       "      <td>0.0</td>\n",
       "      <td>0.0</td>\n",
       "      <td>0.0</td>\n",
       "      <td>0.0</td>\n",
       "      <td>0.0</td>\n",
       "      <td>0.0</td>\n",
       "      <td>0.0</td>\n",
       "      <td>0.0</td>\n",
       "      <td>0.0</td>\n",
       "      <td>0.200000</td>\n",
       "    </tr>\n",
       "    <tr>\n",
       "      <th>15</th>\n",
       "      <td>0.0</td>\n",
       "      <td>0.0</td>\n",
       "      <td>0.0</td>\n",
       "      <td>0.0</td>\n",
       "      <td>0.0</td>\n",
       "      <td>0.0</td>\n",
       "      <td>0.0</td>\n",
       "      <td>0.0</td>\n",
       "      <td>0.0</td>\n",
       "      <td>0.0</td>\n",
       "      <td>...</td>\n",
       "      <td>0.0</td>\n",
       "      <td>0.0</td>\n",
       "      <td>0.0</td>\n",
       "      <td>0.0</td>\n",
       "      <td>0.0</td>\n",
       "      <td>0.0</td>\n",
       "      <td>0.0</td>\n",
       "      <td>0.0</td>\n",
       "      <td>0.0</td>\n",
       "      <td>0.000000</td>\n",
       "    </tr>\n",
       "    <tr>\n",
       "      <th>16</th>\n",
       "      <td>0.0</td>\n",
       "      <td>0.0</td>\n",
       "      <td>0.0</td>\n",
       "      <td>0.0</td>\n",
       "      <td>0.0</td>\n",
       "      <td>0.0</td>\n",
       "      <td>0.0</td>\n",
       "      <td>0.0</td>\n",
       "      <td>0.0</td>\n",
       "      <td>0.0</td>\n",
       "      <td>...</td>\n",
       "      <td>0.0</td>\n",
       "      <td>0.0</td>\n",
       "      <td>0.0</td>\n",
       "      <td>0.0</td>\n",
       "      <td>0.0</td>\n",
       "      <td>0.0</td>\n",
       "      <td>0.0</td>\n",
       "      <td>0.0</td>\n",
       "      <td>0.0</td>\n",
       "      <td>0.000000</td>\n",
       "    </tr>\n",
       "    <tr>\n",
       "      <th>17</th>\n",
       "      <td>0.0</td>\n",
       "      <td>0.0</td>\n",
       "      <td>0.0</td>\n",
       "      <td>0.0</td>\n",
       "      <td>0.0</td>\n",
       "      <td>0.0</td>\n",
       "      <td>0.0</td>\n",
       "      <td>0.0</td>\n",
       "      <td>0.0</td>\n",
       "      <td>0.0</td>\n",
       "      <td>...</td>\n",
       "      <td>0.0</td>\n",
       "      <td>0.0</td>\n",
       "      <td>0.0</td>\n",
       "      <td>0.0</td>\n",
       "      <td>0.0</td>\n",
       "      <td>0.0</td>\n",
       "      <td>0.0</td>\n",
       "      <td>0.0</td>\n",
       "      <td>0.0</td>\n",
       "      <td>0.000000</td>\n",
       "    </tr>\n",
       "    <tr>\n",
       "      <th>18</th>\n",
       "      <td>0.0</td>\n",
       "      <td>0.0</td>\n",
       "      <td>0.0</td>\n",
       "      <td>0.0</td>\n",
       "      <td>0.0</td>\n",
       "      <td>0.0</td>\n",
       "      <td>0.0</td>\n",
       "      <td>0.0</td>\n",
       "      <td>0.0</td>\n",
       "      <td>0.0</td>\n",
       "      <td>...</td>\n",
       "      <td>0.0</td>\n",
       "      <td>0.0</td>\n",
       "      <td>0.0</td>\n",
       "      <td>0.0</td>\n",
       "      <td>0.0</td>\n",
       "      <td>0.0</td>\n",
       "      <td>0.0</td>\n",
       "      <td>0.0</td>\n",
       "      <td>0.0</td>\n",
       "      <td>0.000000</td>\n",
       "    </tr>\n",
       "    <tr>\n",
       "      <th>19</th>\n",
       "      <td>0.0</td>\n",
       "      <td>0.0</td>\n",
       "      <td>0.0</td>\n",
       "      <td>0.0</td>\n",
       "      <td>0.0</td>\n",
       "      <td>0.0</td>\n",
       "      <td>0.0</td>\n",
       "      <td>0.0</td>\n",
       "      <td>0.0</td>\n",
       "      <td>0.0</td>\n",
       "      <td>...</td>\n",
       "      <td>0.0</td>\n",
       "      <td>0.0</td>\n",
       "      <td>0.0</td>\n",
       "      <td>0.0</td>\n",
       "      <td>0.0</td>\n",
       "      <td>0.0</td>\n",
       "      <td>0.0</td>\n",
       "      <td>0.0</td>\n",
       "      <td>0.0</td>\n",
       "      <td>0.000000</td>\n",
       "    </tr>\n",
       "  </tbody>\n",
       "</table>\n",
       "<p>20 rows × 4326 columns</p>\n",
       "</div>"
      ],
      "text/plain": [
       "     aa  abandon  ability  able  abnormal  aboard  abortion  abroad  absence  \\\n",
       "0   0.0      0.0      0.0   0.0       0.0     0.0       0.0     0.0      0.0   \n",
       "1   0.0      0.0      0.0   0.0       0.0     0.0       0.0     0.0      0.0   \n",
       "2   0.0      0.0      0.0   0.0       0.0     0.0       0.0     0.0      0.0   \n",
       "3   0.0      0.0      0.0   0.0       0.0     0.0       0.0     0.0      0.0   \n",
       "4   0.0      0.0      0.0   0.0       0.0     0.0       0.0     0.0      0.0   \n",
       "5   0.0      0.0      0.0   0.0       0.0     0.0       0.0     0.0      0.0   \n",
       "6   0.0      0.0      0.0   0.0       0.0     0.0       0.0     0.0      0.0   \n",
       "7   0.0      0.0      0.0   0.0       0.0     0.0       0.0     0.0      0.0   \n",
       "8   0.0      0.0      0.0   0.0       0.0     0.0       0.0     0.0      0.0   \n",
       "9   0.0      0.0      0.0   0.0       0.0     0.0       0.0     0.0      0.0   \n",
       "10  0.0      0.0      0.0   0.0       0.0     0.0       0.0     0.0      0.0   \n",
       "11  0.0      0.0      0.0   0.0       0.0     0.0       0.0     0.0      0.0   \n",
       "12  0.0      0.0      0.0   0.0       0.0     0.0       0.0     0.0      0.0   \n",
       "13  0.0      0.0      0.0   0.0       0.0     0.0       0.0     0.0      0.0   \n",
       "14  0.0      0.0      0.0   0.0       0.0     0.0       0.0     0.0      0.0   \n",
       "15  0.0      0.0      0.0   0.0       0.0     0.0       0.0     0.0      0.0   \n",
       "16  0.0      0.0      0.0   0.0       0.0     0.0       0.0     0.0      0.0   \n",
       "17  0.0      0.0      0.0   0.0       0.0     0.0       0.0     0.0      0.0   \n",
       "18  0.0      0.0      0.0   0.0       0.0     0.0       0.0     0.0      0.0   \n",
       "19  0.0      0.0      0.0   0.0       0.0     0.0       0.0     0.0      0.0   \n",
       "\n",
       "    absent  ...  yoga  young  younger  youth  zero  zombie  zone  zoo  zoom  \\\n",
       "0      0.0  ...   0.0    0.0      0.0    0.0   0.0     0.0   0.0  0.0   0.0   \n",
       "1      0.0  ...   0.0    0.0      0.0    0.0   0.0     0.0   0.0  0.0   0.0   \n",
       "2      0.0  ...   0.0    0.0      0.0    0.0   0.0     0.0   0.0  0.0   0.0   \n",
       "3      0.0  ...   0.0    0.0      0.0    0.0   0.0     0.0   0.0  0.0   0.0   \n",
       "4      0.0  ...   0.0    0.0      0.0    0.0   0.0     0.0   0.0  0.0   0.0   \n",
       "5      0.0  ...   0.0    0.0      0.0    0.0   0.0     0.0   0.0  0.0   0.0   \n",
       "6      0.0  ...   0.0    0.0      0.0    0.0   0.0     0.0   0.0  0.0   0.0   \n",
       "7      0.0  ...   0.0    0.0      0.0    0.0   0.0     0.0   0.0  0.0   0.0   \n",
       "8      0.0  ...   0.0    0.0      0.0    0.0   0.0     0.0   0.0  0.0   0.0   \n",
       "9      0.0  ...   0.0    0.0      0.0    0.0   0.0     0.0   0.0  0.0   0.0   \n",
       "10     0.0  ...   0.0    0.0      0.0    0.0   0.0     0.0   0.0  0.0   0.0   \n",
       "11     0.0  ...   0.0    0.0      0.0    0.0   0.0     0.0   0.0  0.0   0.0   \n",
       "12     0.0  ...   0.0    0.0      0.0    0.0   0.0     0.0   0.0  0.0   0.0   \n",
       "13     0.0  ...   0.0    0.0      0.0    0.0   0.0     0.0   0.0  0.0   0.0   \n",
       "14     0.0  ...   0.0    0.0      0.0    0.0   0.0     0.0   0.0  0.0   0.0   \n",
       "15     0.0  ...   0.0    0.0      0.0    0.0   0.0     0.0   0.0  0.0   0.0   \n",
       "16     0.0  ...   0.0    0.0      0.0    0.0   0.0     0.0   0.0  0.0   0.0   \n",
       "17     0.0  ...   0.0    0.0      0.0    0.0   0.0     0.0   0.0  0.0   0.0   \n",
       "18     0.0  ...   0.0    0.0      0.0    0.0   0.0     0.0   0.0  0.0   0.0   \n",
       "19     0.0  ...   0.0    0.0      0.0    0.0   0.0     0.0   0.0  0.0   0.0   \n",
       "\n",
       "    Sentiment  \n",
       "0    0.166667  \n",
       "1    0.033333  \n",
       "2    0.000000  \n",
       "3    0.136364  \n",
       "4    0.000000  \n",
       "5    0.000000  \n",
       "6    0.000000  \n",
       "7    0.333333  \n",
       "8    0.200000  \n",
       "9    0.000000  \n",
       "10   0.000000  \n",
       "11   0.000000  \n",
       "12   0.000000  \n",
       "13   0.000000  \n",
       "14   0.200000  \n",
       "15   0.000000  \n",
       "16   0.000000  \n",
       "17   0.000000  \n",
       "18   0.000000  \n",
       "19   0.000000  \n",
       "\n",
       "[20 rows x 4326 columns]"
      ]
     },
     "execution_count": 100,
     "metadata": {},
     "output_type": "execute_result"
    }
   ],
   "source": [
    "tf_df.head(20)"
   ]
  },
  {
   "cell_type": "code",
   "execution_count": 101,
   "id": "1ff69754",
   "metadata": {},
   "outputs": [
    {
     "data": {
      "text/plain": [
       "(4343, 4326)"
      ]
     },
     "execution_count": 101,
     "metadata": {},
     "output_type": "execute_result"
    }
   ],
   "source": [
    "tf_df.shape"
   ]
  },
  {
   "cell_type": "code",
   "execution_count": 102,
   "id": "ef6bed28",
   "metadata": {},
   "outputs": [
    {
     "data": {
      "text/plain": [
       "count    4343.000000\n",
       "mean        0.004363\n",
       "std         0.164469\n",
       "min        -1.000000\n",
       "25%         0.000000\n",
       "50%         0.000000\n",
       "75%         0.000000\n",
       "max         1.000000\n",
       "Name: Sentiment, dtype: float64"
      ]
     },
     "execution_count": 102,
     "metadata": {},
     "output_type": "execute_result"
    }
   ],
   "source": [
    "tf_df.Sentiment.describe()"
   ]
  },
  {
   "cell_type": "code",
   "execution_count": 103,
   "id": "bbaf73fc",
   "metadata": {
    "scrolled": true
   },
   "outputs": [],
   "source": [
    "tf_df[\"_target\"] = df2[\"type\"]"
   ]
  },
  {
   "cell_type": "code",
   "execution_count": 104,
   "id": "714e3115",
   "metadata": {},
   "outputs": [
    {
     "data": {
      "text/html": [
       "<div>\n",
       "<style scoped>\n",
       "    .dataframe tbody tr th:only-of-type {\n",
       "        vertical-align: middle;\n",
       "    }\n",
       "\n",
       "    .dataframe tbody tr th {\n",
       "        vertical-align: top;\n",
       "    }\n",
       "\n",
       "    .dataframe thead th {\n",
       "        text-align: right;\n",
       "    }\n",
       "</style>\n",
       "<table border=\"1\" class=\"dataframe\">\n",
       "  <thead>\n",
       "    <tr style=\"text-align: right;\">\n",
       "      <th></th>\n",
       "      <th>aa</th>\n",
       "      <th>abandon</th>\n",
       "      <th>ability</th>\n",
       "      <th>able</th>\n",
       "      <th>abnormal</th>\n",
       "      <th>aboard</th>\n",
       "      <th>abortion</th>\n",
       "      <th>abroad</th>\n",
       "      <th>absence</th>\n",
       "      <th>absent</th>\n",
       "      <th>...</th>\n",
       "      <th>young</th>\n",
       "      <th>younger</th>\n",
       "      <th>youth</th>\n",
       "      <th>zero</th>\n",
       "      <th>zombie</th>\n",
       "      <th>zone</th>\n",
       "      <th>zoo</th>\n",
       "      <th>zoom</th>\n",
       "      <th>Sentiment</th>\n",
       "      <th>_target</th>\n",
       "    </tr>\n",
       "  </thead>\n",
       "  <tbody>\n",
       "    <tr>\n",
       "      <th>0</th>\n",
       "      <td>0.0</td>\n",
       "      <td>0.0</td>\n",
       "      <td>0.0</td>\n",
       "      <td>0.0</td>\n",
       "      <td>0.0</td>\n",
       "      <td>0.0</td>\n",
       "      <td>0.0</td>\n",
       "      <td>0.0</td>\n",
       "      <td>0.0</td>\n",
       "      <td>0.0</td>\n",
       "      <td>...</td>\n",
       "      <td>0.0</td>\n",
       "      <td>0.0</td>\n",
       "      <td>0.0</td>\n",
       "      <td>0.0</td>\n",
       "      <td>0.0</td>\n",
       "      <td>0.0</td>\n",
       "      <td>0.0</td>\n",
       "      <td>0.0</td>\n",
       "      <td>0.166667</td>\n",
       "      <td>INFJ</td>\n",
       "    </tr>\n",
       "    <tr>\n",
       "      <th>1</th>\n",
       "      <td>0.0</td>\n",
       "      <td>0.0</td>\n",
       "      <td>0.0</td>\n",
       "      <td>0.0</td>\n",
       "      <td>0.0</td>\n",
       "      <td>0.0</td>\n",
       "      <td>0.0</td>\n",
       "      <td>0.0</td>\n",
       "      <td>0.0</td>\n",
       "      <td>0.0</td>\n",
       "      <td>...</td>\n",
       "      <td>0.0</td>\n",
       "      <td>0.0</td>\n",
       "      <td>0.0</td>\n",
       "      <td>0.0</td>\n",
       "      <td>0.0</td>\n",
       "      <td>0.0</td>\n",
       "      <td>0.0</td>\n",
       "      <td>0.0</td>\n",
       "      <td>0.033333</td>\n",
       "      <td>ENTP</td>\n",
       "    </tr>\n",
       "    <tr>\n",
       "      <th>2</th>\n",
       "      <td>0.0</td>\n",
       "      <td>0.0</td>\n",
       "      <td>0.0</td>\n",
       "      <td>0.0</td>\n",
       "      <td>0.0</td>\n",
       "      <td>0.0</td>\n",
       "      <td>0.0</td>\n",
       "      <td>0.0</td>\n",
       "      <td>0.0</td>\n",
       "      <td>0.0</td>\n",
       "      <td>...</td>\n",
       "      <td>0.0</td>\n",
       "      <td>0.0</td>\n",
       "      <td>0.0</td>\n",
       "      <td>0.0</td>\n",
       "      <td>0.0</td>\n",
       "      <td>0.0</td>\n",
       "      <td>0.0</td>\n",
       "      <td>0.0</td>\n",
       "      <td>0.000000</td>\n",
       "      <td>INTP</td>\n",
       "    </tr>\n",
       "    <tr>\n",
       "      <th>3</th>\n",
       "      <td>0.0</td>\n",
       "      <td>0.0</td>\n",
       "      <td>0.0</td>\n",
       "      <td>0.0</td>\n",
       "      <td>0.0</td>\n",
       "      <td>0.0</td>\n",
       "      <td>0.0</td>\n",
       "      <td>0.0</td>\n",
       "      <td>0.0</td>\n",
       "      <td>0.0</td>\n",
       "      <td>...</td>\n",
       "      <td>0.0</td>\n",
       "      <td>0.0</td>\n",
       "      <td>0.0</td>\n",
       "      <td>0.0</td>\n",
       "      <td>0.0</td>\n",
       "      <td>0.0</td>\n",
       "      <td>0.0</td>\n",
       "      <td>0.0</td>\n",
       "      <td>0.136364</td>\n",
       "      <td>INTJ</td>\n",
       "    </tr>\n",
       "    <tr>\n",
       "      <th>4</th>\n",
       "      <td>0.0</td>\n",
       "      <td>0.0</td>\n",
       "      <td>0.0</td>\n",
       "      <td>0.0</td>\n",
       "      <td>0.0</td>\n",
       "      <td>0.0</td>\n",
       "      <td>0.0</td>\n",
       "      <td>0.0</td>\n",
       "      <td>0.0</td>\n",
       "      <td>0.0</td>\n",
       "      <td>...</td>\n",
       "      <td>0.0</td>\n",
       "      <td>0.0</td>\n",
       "      <td>0.0</td>\n",
       "      <td>0.0</td>\n",
       "      <td>0.0</td>\n",
       "      <td>0.0</td>\n",
       "      <td>0.0</td>\n",
       "      <td>0.0</td>\n",
       "      <td>0.000000</td>\n",
       "      <td>ENTJ</td>\n",
       "    </tr>\n",
       "  </tbody>\n",
       "</table>\n",
       "<p>5 rows × 4327 columns</p>\n",
       "</div>"
      ],
      "text/plain": [
       "    aa  abandon  ability  able  abnormal  aboard  abortion  abroad  absence  \\\n",
       "0  0.0      0.0      0.0   0.0       0.0     0.0       0.0     0.0      0.0   \n",
       "1  0.0      0.0      0.0   0.0       0.0     0.0       0.0     0.0      0.0   \n",
       "2  0.0      0.0      0.0   0.0       0.0     0.0       0.0     0.0      0.0   \n",
       "3  0.0      0.0      0.0   0.0       0.0     0.0       0.0     0.0      0.0   \n",
       "4  0.0      0.0      0.0   0.0       0.0     0.0       0.0     0.0      0.0   \n",
       "\n",
       "   absent  ...  young  younger  youth  zero  zombie  zone  zoo  zoom  \\\n",
       "0     0.0  ...    0.0      0.0    0.0   0.0     0.0   0.0  0.0   0.0   \n",
       "1     0.0  ...    0.0      0.0    0.0   0.0     0.0   0.0  0.0   0.0   \n",
       "2     0.0  ...    0.0      0.0    0.0   0.0     0.0   0.0  0.0   0.0   \n",
       "3     0.0  ...    0.0      0.0    0.0   0.0     0.0   0.0  0.0   0.0   \n",
       "4     0.0  ...    0.0      0.0    0.0   0.0     0.0   0.0  0.0   0.0   \n",
       "\n",
       "   Sentiment  _target  \n",
       "0   0.166667     INFJ  \n",
       "1   0.033333     ENTP  \n",
       "2   0.000000     INTP  \n",
       "3   0.136364     INTJ  \n",
       "4   0.000000     ENTJ  \n",
       "\n",
       "[5 rows x 4327 columns]"
      ]
     },
     "execution_count": 104,
     "metadata": {},
     "output_type": "execute_result"
    }
   ],
   "source": [
    "tf_df.head()"
   ]
  },
  {
   "cell_type": "code",
   "execution_count": 108,
   "id": "3cc0113b",
   "metadata": {},
   "outputs": [],
   "source": [
    "# tf_df.to_csv(\"tf_df.csv\", index=False, header=True)"
   ]
  },
  {
   "cell_type": "code",
   "execution_count": null,
   "id": "a0b3823d",
   "metadata": {},
   "outputs": [],
   "source": []
  },
  {
   "cell_type": "code",
   "execution_count": null,
   "id": "a4ae2494",
   "metadata": {},
   "outputs": [],
   "source": []
  }
 ],
 "metadata": {
  "kernelspec": {
   "display_name": "Python 3",
   "language": "python",
   "name": "python3"
  },
  "language_info": {
   "codemirror_mode": {
    "name": "ipython",
    "version": 3
   },
   "file_extension": ".py",
   "mimetype": "text/x-python",
   "name": "python",
   "nbconvert_exporter": "python",
   "pygments_lexer": "ipython3",
   "version": "3.8.8"
  }
 },
 "nbformat": 4,
 "nbformat_minor": 5
}
