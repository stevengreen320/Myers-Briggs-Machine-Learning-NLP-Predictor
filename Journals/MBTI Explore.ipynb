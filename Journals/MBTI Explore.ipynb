{
 "cells": [
  {
   "cell_type": "code",
   "execution_count": 1,
   "metadata": {
    "executionInfo": {
     "elapsed": 5034,
     "status": "ok",
     "timestamp": 1637429071728,
     "user": {
      "displayName": "Steven Green",
      "photoUrl": "https://lh3.googleusercontent.com/a-/AOh14GiXbWV0lbdcJ5gBUR77CvmCOAYSdNk3RqH5PoRu=s64",
      "userId": "14510758370472923810"
     },
     "user_tz": 360
    },
    "id": "jsqcAcCHK1EW"
   },
   "outputs": [],
   "source": [
    "from sklearn.model_selection import train_test_split\n",
    "from sklearn.preprocessing import StandardScaler\n",
    "import pandas as pd\n",
    "import numpy as np\n",
    "import matplotlib.pyplot as plt\n"
   ]
  },
  {
   "cell_type": "code",
   "execution_count": 3,
   "metadata": {
    "colab": {
     "base_uri": "https://localhost:8080/",
     "height": 206
    },
    "executionInfo": {
     "elapsed": 2033,
     "status": "ok",
     "timestamp": 1637429073758,
     "user": {
      "displayName": "Steven Green",
      "photoUrl": "https://lh3.googleusercontent.com/a-/AOh14GiXbWV0lbdcJ5gBUR77CvmCOAYSdNk3RqH5PoRu=s64",
      "userId": "14510758370472923810"
     },
     "user_tz": 360
    },
    "id": "n1Qb3tC4Llj8",
    "outputId": "f1f74b6e-d5f5-40f6-cefb-8dec699731e3"
   },
   "outputs": [
    {
     "data": {
      "text/html": [
       "<div>\n",
       "<style scoped>\n",
       "    .dataframe tbody tr th:only-of-type {\n",
       "        vertical-align: middle;\n",
       "    }\n",
       "\n",
       "    .dataframe tbody tr th {\n",
       "        vertical-align: top;\n",
       "    }\n",
       "\n",
       "    .dataframe thead th {\n",
       "        text-align: right;\n",
       "    }\n",
       "</style>\n",
       "<table border=\"1\" class=\"dataframe\">\n",
       "  <thead>\n",
       "    <tr style=\"text-align: right;\">\n",
       "      <th></th>\n",
       "      <th>type</th>\n",
       "      <th>posts</th>\n",
       "    </tr>\n",
       "  </thead>\n",
       "  <tbody>\n",
       "    <tr>\n",
       "      <th>0</th>\n",
       "      <td>INFJ</td>\n",
       "      <td>'http://www.youtube.com/watch?v=qsXHcwe3krw|||...</td>\n",
       "    </tr>\n",
       "    <tr>\n",
       "      <th>1</th>\n",
       "      <td>ENTP</td>\n",
       "      <td>'I'm finding the lack of me in these posts ver...</td>\n",
       "    </tr>\n",
       "    <tr>\n",
       "      <th>2</th>\n",
       "      <td>INTP</td>\n",
       "      <td>'Good one  _____   https://www.youtube.com/wat...</td>\n",
       "    </tr>\n",
       "    <tr>\n",
       "      <th>3</th>\n",
       "      <td>INTJ</td>\n",
       "      <td>'Dear INTP,   I enjoyed our conversation the o...</td>\n",
       "    </tr>\n",
       "    <tr>\n",
       "      <th>4</th>\n",
       "      <td>ENTJ</td>\n",
       "      <td>'You're fired.|||That's another silly misconce...</td>\n",
       "    </tr>\n",
       "  </tbody>\n",
       "</table>\n",
       "</div>"
      ],
      "text/plain": [
       "   type                                              posts\n",
       "0  INFJ  'http://www.youtube.com/watch?v=qsXHcwe3krw|||...\n",
       "1  ENTP  'I'm finding the lack of me in these posts ver...\n",
       "2  INTP  'Good one  _____   https://www.youtube.com/wat...\n",
       "3  INTJ  'Dear INTP,   I enjoyed our conversation the o...\n",
       "4  ENTJ  'You're fired.|||That's another silly misconce..."
      ]
     },
     "execution_count": 3,
     "metadata": {},
     "output_type": "execute_result"
    }
   ],
   "source": [
    "df = pd.read_csv(\"mbti_1.csv\")\n",
    "df.head()"
   ]
  },
  {
   "cell_type": "code",
   "execution_count": 4,
   "metadata": {
    "colab": {
     "base_uri": "https://localhost:8080/"
    },
    "executionInfo": {
     "elapsed": 112,
     "status": "ok",
     "timestamp": 1637429073760,
     "user": {
      "displayName": "Steven Green",
      "photoUrl": "https://lh3.googleusercontent.com/a-/AOh14GiXbWV0lbdcJ5gBUR77CvmCOAYSdNk3RqH5PoRu=s64",
      "userId": "14510758370472923810"
     },
     "user_tz": 360
    },
    "id": "mAE99iz7Lya8",
    "outputId": "db2bd5df-25b0-4962-c09d-c2639d250e0d"
   },
   "outputs": [
    {
     "name": "stdout",
     "output_type": "stream",
     "text": [
      "<class 'pandas.core.frame.DataFrame'>\n",
      "RangeIndex: 8675 entries, 0 to 8674\n",
      "Data columns (total 2 columns):\n",
      " #   Column  Non-Null Count  Dtype \n",
      "---  ------  --------------  ----- \n",
      " 0   type    8675 non-null   object\n",
      " 1   posts   8675 non-null   object\n",
      "dtypes: object(2)\n",
      "memory usage: 135.7+ KB\n"
     ]
    }
   ],
   "source": [
    "df.info()"
   ]
  },
  {
   "cell_type": "code",
   "execution_count": 5,
   "metadata": {
    "colab": {
     "base_uri": "https://localhost:8080/"
    },
    "executionInfo": {
     "elapsed": 43,
     "status": "ok",
     "timestamp": 1637429073761,
     "user": {
      "displayName": "Steven Green",
      "photoUrl": "https://lh3.googleusercontent.com/a-/AOh14GiXbWV0lbdcJ5gBUR77CvmCOAYSdNk3RqH5PoRu=s64",
      "userId": "14510758370472923810"
     },
     "user_tz": 360
    },
    "id": "5cPfUrCHMyhz",
    "outputId": "e4d76e5d-1dfa-4a1f-80f2-51e315124be9"
   },
   "outputs": [
    {
     "data": {
      "text/plain": [
       "INFP    1832\n",
       "INFJ    1470\n",
       "INTP    1304\n",
       "INTJ    1091\n",
       "ENTP     685\n",
       "ENFP     675\n",
       "ISTP     337\n",
       "ISFP     271\n",
       "ENTJ     231\n",
       "ISTJ     205\n",
       "ENFJ     190\n",
       "ISFJ     166\n",
       "ESTP      89\n",
       "ESFP      48\n",
       "ESFJ      42\n",
       "ESTJ      39\n",
       "Name: type, dtype: int64"
      ]
     },
     "execution_count": 5,
     "metadata": {},
     "output_type": "execute_result"
    }
   ],
   "source": [
    "countlist = df.type.value_counts()\n",
    "countlist"
   ]
  },
  {
   "cell_type": "code",
   "execution_count": 6,
   "metadata": {
    "colab": {
     "base_uri": "https://localhost:8080/",
     "height": 715
    },
    "executionInfo": {
     "elapsed": 317,
     "status": "ok",
     "timestamp": 1637429074044,
     "user": {
      "displayName": "Steven Green",
      "photoUrl": "https://lh3.googleusercontent.com/a-/AOh14GiXbWV0lbdcJ5gBUR77CvmCOAYSdNk3RqH5PoRu=s64",
      "userId": "14510758370472923810"
     },
     "user_tz": 360
    },
    "id": "y6Y4jb8bNEMi",
    "outputId": "297596f0-b08f-472d-d36f-dc9ba0193e94"
   },
   "outputs": [
    {
     "data": {
      "image/png": "[encoded data removed]",
      "text/plain": [
       "<Figure size 1080x864 with 1 Axes>"
      ]
     },
     "metadata": {
      "needs_background": "light"
     },
     "output_type": "display_data"
    }
   ],
   "source": [
    "plt.figure(figsize=(15,12))\n",
    "countlist.plot(kind= \"bar\")\n",
    "plt.show()"
   ]
  },
  {
   "cell_type": "code",
   "execution_count": null,
   "metadata": {
    "executionInfo": {
     "elapsed": 42,
     "status": "ok",
     "timestamp": 1637429074060,
     "user": {
      "displayName": "Steven Green",
      "photoUrl": "https://lh3.googleusercontent.com/a-/AOh14GiXbWV0lbdcJ5gBUR77CvmCOAYSdNk3RqH5PoRu=s64",
      "userId": "14510758370472923810"
     },
     "user_tz": 360
    },
    "id": "owQZEb9EU0hP"
   },
   "outputs": [],
   "source": []
  },
  {
   "cell_type": "code",
   "execution_count": null,
   "metadata": {
    "executionInfo": {
     "elapsed": 43,
     "status": "ok",
     "timestamp": 1637429074062,
     "user": {
      "displayName": "Steven Green",
      "photoUrl": "https://lh3.googleusercontent.com/a-/AOh14GiXbWV0lbdcJ5gBUR77CvmCOAYSdNk3RqH5PoRu=s64",
      "userId": "14510758370472923810"
     },
     "user_tz": 360
    },
    "id": "CXFHNZMuU0kU"
   },
   "outputs": [],
   "source": []
  },
  {
   "cell_type": "code",
   "execution_count": null,
   "metadata": {
    "executionInfo": {
     "elapsed": 44,
     "status": "ok",
     "timestamp": 1637429074064,
     "user": {
      "displayName": "Steven Green",
      "photoUrl": "https://lh3.googleusercontent.com/a-/AOh14GiXbWV0lbdcJ5gBUR77CvmCOAYSdNk3RqH5PoRu=s64",
      "userId": "14510758370472923810"
     },
     "user_tz": 360
    },
    "id": "JKGs3tzzU0nY"
   },
   "outputs": [],
   "source": []
  },
  {
   "cell_type": "code",
   "execution_count": null,
   "metadata": {
    "executionInfo": {
     "elapsed": 45,
     "status": "ok",
     "timestamp": 1637429074066,
     "user": {
      "displayName": "Steven Green",
      "photoUrl": "https://lh3.googleusercontent.com/a-/AOh14GiXbWV0lbdcJ5gBUR77CvmCOAYSdNk3RqH5PoRu=s64",
      "userId": "14510758370472923810"
     },
     "user_tz": 360
    },
    "id": "thiDOjAUU0qS"
   },
   "outputs": [],
   "source": []
  },
  {
   "cell_type": "code",
   "execution_count": null,
   "metadata": {
    "executionInfo": {
     "elapsed": 48,
     "status": "ok",
     "timestamp": 1637429074069,
     "user": {
      "displayName": "Steven Green",
      "photoUrl": "https://lh3.googleusercontent.com/a-/AOh14GiXbWV0lbdcJ5gBUR77CvmCOAYSdNk3RqH5PoRu=s64",
      "userId": "14510758370472923810"
     },
     "user_tz": 360
    },
    "id": "Ts9wduoUU0tM"
   },
   "outputs": [],
   "source": []
  },
  {
   "cell_type": "code",
   "execution_count": null,
   "metadata": {
    "executionInfo": {
     "elapsed": 50,
     "status": "ok",
     "timestamp": 1637429074071,
     "user": {
      "displayName": "Steven Green",
      "photoUrl": "https://lh3.googleusercontent.com/a-/AOh14GiXbWV0lbdcJ5gBUR77CvmCOAYSdNk3RqH5PoRu=s64",
      "userId": "14510758370472923810"
     },
     "user_tz": 360
    },
    "id": "1uXl-Bx5U0wl"
   },
   "outputs": [],
   "source": []
  },
  {
   "cell_type": "code",
   "execution_count": null,
   "metadata": {
    "executionInfo": {
     "elapsed": 50,
     "status": "ok",
     "timestamp": 1637429074072,
     "user": {
      "displayName": "Steven Green",
      "photoUrl": "https://lh3.googleusercontent.com/a-/AOh14GiXbWV0lbdcJ5gBUR77CvmCOAYSdNk3RqH5PoRu=s64",
      "userId": "14510758370472923810"
     },
     "user_tz": 360
    },
    "id": "QY0D9VmESiev"
   },
   "outputs": [],
   "source": []
  }
 ],
 "metadata": {
  "colab": {
   "authorship_tag": "ABX9TyNWtIJm6bzXoXuElw8/QOEk",
   "name": "MBTI Explore.ipynb",
   "provenance": []
  },
  "kernelspec": {
   "display_name": "Python 3",
   "language": "python",
   "name": "python3"
  },
  "language_info": {
   "codemirror_mode": {
    "name": "ipython",
    "version": 3
   },
   "file_extension": ".py",
   "mimetype": "text/x-python",
   "name": "python",
   "nbconvert_exporter": "python",
   "pygments_lexer": "ipython3",
   "version": "3.8.8"
  }
 },
 "nbformat": 4,
 "nbformat_minor": 1
}
