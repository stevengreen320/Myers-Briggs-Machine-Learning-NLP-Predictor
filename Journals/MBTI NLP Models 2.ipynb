{
 "cells": [
  {
   "cell_type": "code",
   "execution_count": 1,
   "id": "a934df37",
   "metadata": {},
   "outputs": [],
   "source": [
    "  # generic data science libraries\n",
    "import pandas as pd\n",
    "# pd.set_option('display.max_columns', None)\n",
    "import numpy as np\n",
    "from sklearn.preprocessing import OrdinalEncoder\n",
    "\n",
    "# data visualization\n",
    "import matplotlib.pyplot as plt\n",
    "import seaborn as sns\n",
    "\n",
    "# import scikit-learn\n",
    "from sklearn.model_selection import train_test_split\n",
    "\n",
    "# models\n",
    "from sklearn.linear_model import LogisticRegression\n",
    "from sklearn.tree import DecisionTreeClassifier\n",
    "from sklearn.ensemble import RandomForestClassifier\n",
    "from sklearn.ensemble import AdaBoostClassifier\n",
    "from sklearn.ensemble import GradientBoostingClassifier\n",
    "from sklearn.neighbors import KNeighborsClassifier\n",
    "from sklearn.svm import SVC\n",
    "from xgboost import XGBClassifier\n",
    "from lightgbm import LGBMClassifier\n",
    "\n",
    "# metrics\n",
    "from sklearn.metrics import accuracy_score, classification_report, auc, confusion_matrix, roc_curve"
   ]
  },
  {
   "cell_type": "code",
   "execution_count": 2,
   "id": "324e8662",
   "metadata": {},
   "outputs": [
    {
     "name": "stderr",
     "output_type": "stream",
     "text": [
      "C:\\Users\\xengo\\anaconda4\\lib\\site-packages\\IPython\\core\\interactiveshell.py:3165: DtypeWarning: Columns (12264) have mixed types.Specify dtype option on import or set low_memory=False.\n",
      "  has_raised = await self.run_ast_nodes(code_ast.body, cell_name,\n"
     ]
    }
   ],
   "source": [
    "df = pd.read_csv(\"tf_df2.csv\")"
   ]
  },
  {
   "cell_type": "code",
   "execution_count": 3,
   "id": "21faa9a4",
   "metadata": {},
   "outputs": [
    {
     "name": "stdout",
     "output_type": "stream",
     "text": [
      "<class 'pandas.core.frame.DataFrame'>\n",
      "RangeIndex: 94751 entries, 0 to 94750\n",
      "Columns: 12265 entries, aaa to _target\n",
      "dtypes: float64(12264), object(1)\n",
      "memory usage: 8.7+ GB\n"
     ]
    }
   ],
   "source": [
    "df.info()"
   ]
  },
  {
   "cell_type": "code",
   "execution_count": 4,
   "id": "db56fc2b",
   "metadata": {},
   "outputs": [
    {
     "ename": "MemoryError",
     "evalue": "Unable to allocate 8.66 GiB for an array with shape (94751, 12264) and data type float64",
     "output_type": "error",
     "traceback": [
      "\u001b[1;31m---------------------------------------------------------------------------\u001b[0m",
      "\u001b[1;31mMemoryError\u001b[0m                               Traceback (most recent call last)",
      "\u001b[1;32m<ipython-input-4-a4ce3467ec63>\u001b[0m in \u001b[0;36m<module>\u001b[1;34m\u001b[0m\n\u001b[0;32m      5\u001b[0m \u001b[1;33m\u001b[0m\u001b[0m\n\u001b[0;32m      6\u001b[0m \u001b[1;31m# convert to lists/arrays (MUST HAPPEN)\u001b[0m\u001b[1;33m\u001b[0m\u001b[1;33m\u001b[0m\u001b[1;33m\u001b[0m\u001b[0m\n\u001b[1;32m----> 7\u001b[1;33m \u001b[0mX\u001b[0m \u001b[1;33m=\u001b[0m \u001b[0mnp\u001b[0m\u001b[1;33m.\u001b[0m\u001b[0marray\u001b[0m\u001b[1;33m(\u001b[0m\u001b[0mfeatures\u001b[0m\u001b[1;33m)\u001b[0m\u001b[1;33m\u001b[0m\u001b[1;33m\u001b[0m\u001b[0m\n\u001b[0m\u001b[0;32m      8\u001b[0m \u001b[0my\u001b[0m \u001b[1;33m=\u001b[0m \u001b[0mnp\u001b[0m\u001b[1;33m.\u001b[0m\u001b[0marray\u001b[0m\u001b[1;33m(\u001b[0m\u001b[0mtarget\u001b[0m\u001b[1;33m)\u001b[0m\u001b[1;33m\u001b[0m\u001b[1;33m\u001b[0m\u001b[0m\n\u001b[0;32m      9\u001b[0m \u001b[1;33m\u001b[0m\u001b[0m\n",
      "\u001b[1;31mMemoryError\u001b[0m: Unable to allocate 8.66 GiB for an array with shape (94751, 12264) and data type float64"
     ]
    }
   ],
   "source": [
    "# get pandas columns for prediction\n",
    "target = df[\"_target\"]\n",
    "features = df.drop([\"_target\"], axis=1)\n",
    "\n",
    "\n",
    "# convert to lists/arrays (MUST HAPPEN)\n",
    "X = np.array(features)\n",
    "y = np.array(target)\n",
    "\n",
    "# train/test split\n",
    "X_train, X_test, y_train, y_test = train_test_split(X, y, test_size=0.2, random_state=42, stratify=y)"
   ]
  },
  {
   "cell_type": "code",
   "execution_count": null,
   "id": "680075a4",
   "metadata": {},
   "outputs": [],
   "source": [
    "features\n"
   ]
  },
  {
   "cell_type": "code",
   "execution_count": null,
   "id": "5d181d35",
   "metadata": {},
   "outputs": [],
   "source": [
    "\n",
    "reg = LogisticRegression()\n",
    "reg.fit(X_train, y_train)\n",
    "\n",
    "#get predictions\n",
    "in_sample_preds = reg.predict(X_train)\n",
    "out_sample_preds = reg.predict(X_test)\n",
    "\n",
    "# get evaluation report\n",
    "print(\"Logistic Classifier:\")\n",
    "print(\"Classification Report - In Sample\")\n",
    "print(classification_report(y_train, in_sample_preds))\n",
    "print()\n",
    "print(\"Confusion Matrix - In Sample\")\n",
    "print(confusion_matrix(y_train, in_sample_preds))\n",
    "print()\n",
    "print()\n",
    "print(\"Classification Report - Out Sample\")\n",
    "print(classification_report(y_test, out_sample_preds))\n",
    "print()\n",
    "print(\"Confusion Matrix - Out Sample\")\n",
    "print(confusion_matrix(y_test, out_sample_preds))\n",
    "\n"
   ]
  },
  {
   "cell_type": "code",
   "execution_count": null,
   "id": "42470a19",
   "metadata": {},
   "outputs": [],
   "source": [
    "# train the model\n",
    "dt = DecisionTreeClassifier(random_state=42)\n",
    "dt.fit(X_train, y_train)\n",
    "\n",
    "#get predictions\n",
    "in_sample_preds = dt.predict(X_train)\n",
    "out_sample_preds = dt.predict(X_test)\n",
    "\n",
    "# get evaluation report\n",
    "print(\"Decision Tree Classifier:\")\n",
    "print(\"Classification Report - In Sample\")\n",
    "print(classification_report(y_train, in_sample_preds))\n",
    "print()\n",
    "print(\"Confusion Matrix - In Sample\")\n",
    "print(confusion_matrix(y_train, in_sample_preds))\n",
    "print()\n",
    "print()\n",
    "print(\"Classification Report - Out Sample\")\n",
    "print(classification_report(y_test, out_sample_preds))\n",
    "print()\n",
    "print(\"Confusion Matrix - Out Sample\")\n",
    "print(confusion_matrix(y_test, out_sample_preds))"
   ]
  },
  {
   "cell_type": "code",
   "execution_count": null,
   "id": "ccaf6f28",
   "metadata": {},
   "outputs": [],
   "source": [
    "# train the model\n",
    "rf = RandomForestClassifier(random_state=42, n_estimators=100)\n",
    "rf.fit(X_train, y_train)\n",
    "\n",
    "#get predictions\n",
    "in_sample_preds = rf.predict(X_train)\n",
    "out_sample_preds = rf.predict(X_test)\n",
    "\n",
    "# get evaluation report\n",
    "print(\"Random Forest Classifier:\")\n",
    "print(\"Classification Report - In Sample\")\n",
    "print(classification_report(y_train, in_sample_preds))\n",
    "print()\n",
    "print(\"Confusion Matrix - In Sample\")\n",
    "print(confusion_matrix(y_train, in_sample_preds))\n",
    "print()\n",
    "print()\n",
    "print(\"Classification Report - Out Sample\")\n",
    "print(classification_report(y_test, out_sample_preds))\n",
    "print()\n",
    "print(\"Confusion Matrix - Out Sample\")\n",
    "print(confusion_matrix(y_test, out_sample_preds))"
   ]
  },
  {
   "cell_type": "code",
   "execution_count": null,
   "id": "a2fe169e",
   "metadata": {},
   "outputs": [],
   "source": [
    " # train the model\n",
    "ada = AdaBoostClassifier(random_state=42)\n",
    "ada.fit(X_train, y_train)\n",
    "\n",
    "#get predictions\n",
    "in_sample_preds = ada.predict(X_train)\n",
    "out_sample_preds = ada.predict(X_test)\n",
    "\n",
    "# get evaluation report\n",
    "print(\"Ada Boost Classifier:\")\n",
    "print(\"Classification Report - In Sample\")\n",
    "print(classification_report(y_train, in_sample_preds))\n",
    "print()\n",
    "print(\"Confusion Matrix - In Sample\")\n",
    "print(confusion_matrix(y_train, in_sample_preds))\n",
    "print()\n",
    "print()\n",
    "print(\"Classification Report - Out Sample\")\n",
    "print(classification_report(y_test, out_sample_preds))\n",
    "print()\n",
    "print(\"Confusion Matrix - Out Sample\")\n",
    "print(confusion_matrix(y_test, out_sample_preds))"
   ]
  },
  {
   "cell_type": "code",
   "execution_count": null,
   "id": "225fba0b",
   "metadata": {},
   "outputs": [],
   "source": [
    "# train the model\n",
    "gb = GradientBoostingClassifier(random_state=42)\n",
    "gb.fit(X_train, y_train)\n",
    "\n",
    "#get predictions\n",
    "in_sample_preds = gb.predict(X_train)\n",
    "out_sample_preds = gb.predict(X_test)\n",
    "\n",
    "# get evaluation report\n",
    "print(\"GradientBoosting Classifier:\")\n",
    "print(\"Classification Report - In Sample\")\n",
    "print(classification_report(y_train, in_sample_preds))\n",
    "print()\n",
    "print(\"Confusion Matrix - In Sample\")\n",
    "print(confusion_matrix(y_train, in_sample_preds))\n",
    "print()\n",
    "print()\n",
    "print(\"Classification Report - Out Sample\")\n",
    "print(classification_report(y_test, out_sample_preds))\n",
    "print()\n",
    "print(\"Confusion Matrix - Out Sample\")\n",
    "print(confusion_matrix(y_test, out_sample_preds))"
   ]
  },
  {
   "cell_type": "code",
   "execution_count": null,
   "id": "704d15e9",
   "metadata": {},
   "outputs": [],
   "source": [
    "# train the model\n",
    "xgb = XGBClassifier(random_state=42)\n",
    "xgb.fit(X_train, y_train)\n",
    "\n",
    "#get predictions\n",
    "in_sample_preds = xgb.predict(X_train)\n",
    "out_sample_preds = xgb.predict(X_test)\n",
    "\n",
    "# get evaluation report\n",
    "print(\"XG Boost Classifier:\")\n",
    "print(\"Classification Report - In Sample\")\n",
    "print(classification_report(y_train, in_sample_preds))\n",
    "print()\n",
    "print(\"Confusion Matrix - In Sample\")\n",
    "print(confusion_matrix(y_train, in_sample_preds))\n",
    "print()\n",
    "print()\n",
    "print(\"Classification Report - Out Sample\")\n",
    "print(classification_report(y_test, out_sample_preds))\n",
    "print()\n",
    "print(\"Confusion Matrix - Out Sample\")\n",
    "print(confusion_matrix(y_test, out_sample_preds))"
   ]
  },
  {
   "cell_type": "code",
   "execution_count": null,
   "id": "77a7dfd8",
   "metadata": {},
   "outputs": [],
   "source": [
    "np.sqrt(len(df))"
   ]
  },
  {
   "cell_type": "code",
   "execution_count": null,
   "id": "28fc0dbd",
   "metadata": {},
   "outputs": [],
   "source": [
    "# train the model\n",
    "knn = KNeighborsClassifier(n_neighbors=65)\n",
    "knn.fit(X_train, y_train)\n",
    "\n",
    "#get predictions\n",
    "in_sample_preds = knn.predict(X_train)\n",
    "out_sample_preds = knn.predict(X_test)\n",
    "\n",
    "# get evaluation report\n",
    "print(\"KNN Classifier:\")\n",
    "print(\"Classification Report - In Sample\")\n",
    "print(classification_report(y_train, in_sample_preds))\n",
    "print()\n",
    "print(\"Confusion Matrix - In Sample\")\n",
    "print(confusion_matrix(y_train, in_sample_preds))\n",
    "print()\n",
    "print()\n",
    "print(\"Classification Report - Out Sample\")\n",
    "print(classification_report(y_test, out_sample_preds))\n",
    "print()\n",
    "print(\"Confusion Matrix - Out Sample\")\n",
    "print(confusion_matrix(y_test, out_sample_preds))"
   ]
  },
  {
   "cell_type": "code",
   "execution_count": null,
   "id": "d824326c",
   "metadata": {},
   "outputs": [],
   "source": [
    "# train the model\n",
    "lgb = LGBMClassifier(random_state=42, n_estimators=65)\n",
    "lgb = lgb.fit(X_train, y_train)\n",
    "\n",
    "\n",
    "#get predictions\n",
    "in_sample_preds = lgb.predict(X_train)\n",
    "out_sample_preds = lgb.predict(X_test)\n",
    "\n",
    "# get evaluation report\n",
    "print(\"LGB Classifier:\")\n",
    "print(\"Classification Report - In Sample\")\n",
    "print(classification_report(y_train, in_sample_preds))\n",
    "print()\n",
    "print(\"Confusion Matrix - In Sample\")\n",
    "print(confusion_matrix(y_train, in_sample_preds))\n",
    "print()\n",
    "print()\n",
    "print(\"Classification Report - Out Sample\")\n",
    "print(classification_report(y_test, out_sample_preds))\n",
    "print()\n",
    "print(\"Confusion Matrix - Out Sample\")\n",
    "print(confusion_matrix(y_test, out_sample_preds))"
   ]
  },
  {
   "cell_type": "code",
   "execution_count": null,
   "id": "802aaf3f",
   "metadata": {},
   "outputs": [],
   "source": [
    "# train the model\n",
    "svm = SVC(probability=True)\n",
    "svm.fit(X_train, y_train)\n",
    "\n",
    "#get predictions\n",
    "in_sample_preds = svm.predict(X_train)\n",
    "out_sample_preds = svm.predict(X_test)\n",
    "\n",
    "# get evaluation report\n",
    "print(\"SVM Classifier:\")\n",
    "print(\"Classification Report - In Sample\")\n",
    "print(classification_report(y_train, in_sample_preds))\n",
    "print()\n",
    "print(\"Confusion Matrix - In Sample\")\n",
    "print(confusion_matrix(y_train, in_sample_preds))\n",
    "print()\n",
    "print()\n",
    "print(\"Classification Report - Out Sample\")\n",
    "print(classification_report(y_test, out_sample_preds))\n",
    "print()\n",
    "print(\"Confusion Matrix - Out Sample\")\n",
    "print(confusion_matrix(y_test, out_sample_preds))"
   ]
  },
  {
   "cell_type": "code",
   "execution_count": null,
   "id": "a044adf0",
   "metadata": {},
   "outputs": [],
   "source": [
    "# convert to lists/arrays (MUST HAPPEN)\n",
    "X = features_2\n",
    "y = np.array(target)\n",
    "\n",
    "# train/test split\n",
    "X_train, X_test, y_train, y_test = train_test_split(X, y, test_size=0.2, random_state=42, stratify=y)"
   ]
  },
  {
   "cell_type": "code",
   "execution_count": null,
   "id": "2bf19f6e",
   "metadata": {},
   "outputs": [],
   "source": [
    "\n",
    "reg = LogisticRegression()\n",
    "reg.fit(X_train, y_train)\n",
    "\n",
    "#get predictions\n",
    "in_sample_preds = reg.predict(X_train)\n",
    "out_sample_preds = reg.predict(X_test)\n",
    "\n",
    "# get evaluation report\n",
    "print(\"Logistic Classifier:\")\n",
    "print(\"Classification Report - In Sample\")\n",
    "print(classification_report(y_train, in_sample_preds))\n",
    "print()\n",
    "print(\"Confusion Matrix - In Sample\")\n",
    "print(confusion_matrix(y_train, in_sample_preds))\n",
    "print()\n",
    "print()\n",
    "print(\"Classification Report - Out Sample\")\n",
    "print(classification_report(y_test, out_sample_preds))\n",
    "print()\n",
    "print(\"Confusion Matrix - Out Sample\")\n",
    "print(confusion_matrix(y_test, out_sample_preds))"
   ]
  },
  {
   "cell_type": "code",
   "execution_count": null,
   "id": "a12e5b24",
   "metadata": {},
   "outputs": [],
   "source": []
  }
 ],
 "metadata": {
  "kernelspec": {
   "display_name": "Python 3",
   "language": "python",
   "name": "python3"
  },
  "language_info": {
   "codemirror_mode": {
    "name": "ipython",
    "version": 3
   },
   "file_extension": ".py",
   "mimetype": "text/x-python",
   "name": "python",
   "nbconvert_exporter": "python",
   "pygments_lexer": "ipython3",
   "version": "3.8.8"
  }
 },
 "nbformat": 4,
 "nbformat_minor": 5
}
