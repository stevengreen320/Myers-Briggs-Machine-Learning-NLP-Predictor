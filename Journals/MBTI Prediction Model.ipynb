{
 "cells": [
  {
   "cell_type": "code",
   "execution_count": 13,
   "id": "18218dc7",
   "metadata": {},
   "outputs": [],
   "source": [
    "import pandas as pd\n",
    "import pickle\n",
    "import numpy as np\n",
    "from textblob import TextBlob\n",
    "import re"
   ]
  },
  {
   "cell_type": "code",
   "execution_count": 2,
   "id": "bc0d0fcf",
   "metadata": {},
   "outputs": [],
   "source": [
    "df = pd.read_csv(\"tf_df.csv\")"
   ]
  },
  {
   "cell_type": "code",
   "execution_count": 3,
   "id": "1c261eb0",
   "metadata": {},
   "outputs": [
    {
     "data": {
      "text/plain": [
       "4327"
      ]
     },
     "execution_count": 3,
     "metadata": {},
     "output_type": "execute_result"
    }
   ],
   "source": [
    "cols =df.columns\n",
    "len(cols)"
   ]
  },
  {
   "cell_type": "code",
   "execution_count": 4,
   "id": "79b07277",
   "metadata": {},
   "outputs": [],
   "source": [
    "filename = 'mbti_model.sav'\n",
    "model = pickle.load(open(filename, 'rb'))"
   ]
  },
  {
   "cell_type": "code",
   "execution_count": 8,
   "id": "add269f0",
   "metadata": {},
   "outputs": [
    {
     "data": {
      "text/plain": [
       "'zoom'"
      ]
     },
     "execution_count": 8,
     "metadata": {},
     "output_type": "execute_result"
    }
   ],
   "source": [
    "cols[-3]"
   ]
  },
  {
   "cell_type": "code",
   "execution_count": 28,
   "id": "691ae4ed",
   "metadata": {},
   "outputs": [],
   "source": [
    "text = \"Revenge is a dish best served cold on the head of your enemies\""
   ]
  },
  {
   "cell_type": "code",
   "execution_count": 29,
   "id": "1096b9e7",
   "metadata": {},
   "outputs": [],
   "source": [
    "clean_text = re.sub('[^a-zA-Z]', ' ', text).lower()"
   ]
  },
  {
   "cell_type": "code",
   "execution_count": 30,
   "id": "9281194e",
   "metadata": {},
   "outputs": [
    {
     "name": "stdout",
     "output_type": "stream",
     "text": [
      "best\n",
      "cold\n",
      "head\n",
      "revenge\n"
     ]
    }
   ],
   "source": [
    "inp = np.zeros(len(cols)-1)\n",
    "\n",
    "for i in range(len(cols)-2):\n",
    "    col = cols[i]\n",
    "    if col in clean_text.split(\" \"):\n",
    "        print(col)\n",
    "        inp[i] =1\n",
    "        \n",
    "sentiment = TextBlob(clean_text).sentiment.polarity\n",
    "inp[-1] = sentiment"
   ]
  },
  {
   "cell_type": "code",
   "execution_count": 31,
   "id": "95db151c",
   "metadata": {},
   "outputs": [
    {
     "data": {
      "text/plain": [
       "4.2"
      ]
     },
     "execution_count": 31,
     "metadata": {},
     "output_type": "execute_result"
    }
   ],
   "source": [
    "sum(inp)"
   ]
  },
  {
   "cell_type": "code",
   "execution_count": 32,
   "id": "7f7f5427",
   "metadata": {},
   "outputs": [],
   "source": [
    "X = np.array([inp])\n",
    "preds = model.predict_proba(X)\n",
    "preds_singular = model.predict(X)"
   ]
  },
  {
   "cell_type": "code",
   "execution_count": 33,
   "id": "9762f75b",
   "metadata": {},
   "outputs": [
    {
     "data": {
      "text/plain": [
       "array([[0.02238893, 0.05841064, 0.02349927, 0.06091325, 0.00373266,\n",
       "        0.0193765 , 0.00544691, 0.0112704 , 0.25145542, 0.11970991,\n",
       "        0.08904144, 0.23161922, 0.01840233, 0.02798554, 0.01895416,\n",
       "        0.03779342]])"
      ]
     },
     "execution_count": 33,
     "metadata": {},
     "output_type": "execute_result"
    }
   ],
   "source": [
    "preds"
   ]
  },
  {
   "cell_type": "code",
   "execution_count": 34,
   "id": "1a3346e4",
   "metadata": {},
   "outputs": [
    {
     "data": {
      "text/plain": [
       "'INFJ'"
      ]
     },
     "execution_count": 34,
     "metadata": {},
     "output_type": "execute_result"
    }
   ],
   "source": [
    "preds_singular[1]"
   ]
  },
  {
   "cell_type": "code",
   "execution_count": null,
   "id": "ecc33dbd",
   "metadata": {},
   "outputs": [],
   "source": []
  }
 ],
 "metadata": {
  "kernelspec": {
   "display_name": "Python 3",
   "language": "python",
   "name": "python3"
  },
  "language_info": {
   "codemirror_mode": {
    "name": "ipython",
    "version": 3
   },
   "file_extension": ".py",
   "mimetype": "text/x-python",
   "name": "python",
   "nbconvert_exporter": "python",
   "pygments_lexer": "ipython3",
   "version": "3.8.8"
  }
 },
 "nbformat": 4,
 "nbformat_minor": 5
}
