{
 "cells": [
  {
   "cell_type": "code",
   "execution_count": 1,
   "id": "7070ebce",
   "metadata": {},
   "outputs": [],
   "source": [
    "from textblob import TextBlob\n",
    "import pandas as pd\n",
    "import matplotlib.pyplot as plt\n",
    "import os\n",
    "import numpy as np "
   ]
  },
  {
   "cell_type": "code",
   "execution_count": 2,
   "id": "5640afbf",
   "metadata": {},
   "outputs": [],
   "source": [
    "import nltk\n",
    "import re\n",
    "import pickle\n",
    "import gc\n",
    "import spacy\n",
    "import en_core_web_sm\n",
    "nlp = spacy.load('en_core_web_sm', disable=['parser', 'ner'])\n",
    "nlp.max_length = 1308656\n",
    "from collections import Counter"
   ]
  },
  {
   "cell_type": "code",
   "execution_count": 3,
   "id": "d59a884b",
   "metadata": {},
   "outputs": [
    {
     "data": {
      "text/html": [
       "<div>\n",
       "<style scoped>\n",
       "    .dataframe tbody tr th:only-of-type {\n",
       "        vertical-align: middle;\n",
       "    }\n",
       "\n",
       "    .dataframe tbody tr th {\n",
       "        vertical-align: top;\n",
       "    }\n",
       "\n",
       "    .dataframe thead th {\n",
       "        text-align: right;\n",
       "    }\n",
       "</style>\n",
       "<table border=\"1\" class=\"dataframe\">\n",
       "  <thead>\n",
       "    <tr style=\"text-align: right;\">\n",
       "      <th></th>\n",
       "      <th>type</th>\n",
       "      <th>posts</th>\n",
       "    </tr>\n",
       "  </thead>\n",
       "  <tbody>\n",
       "    <tr>\n",
       "      <th>0</th>\n",
       "      <td>INFJ</td>\n",
       "      <td>'http://www.youtube.com/watch?v=qsXHcwe3krw|||...</td>\n",
       "    </tr>\n",
       "    <tr>\n",
       "      <th>1</th>\n",
       "      <td>ENTP</td>\n",
       "      <td>'I'm finding the lack of me in these posts ver...</td>\n",
       "    </tr>\n",
       "    <tr>\n",
       "      <th>2</th>\n",
       "      <td>INTP</td>\n",
       "      <td>'Good one  _____   https://www.youtube.com/wat...</td>\n",
       "    </tr>\n",
       "    <tr>\n",
       "      <th>3</th>\n",
       "      <td>INTJ</td>\n",
       "      <td>'Dear INTP,   I enjoyed our conversation the o...</td>\n",
       "    </tr>\n",
       "    <tr>\n",
       "      <th>4</th>\n",
       "      <td>ENTJ</td>\n",
       "      <td>'You're fired.|||That's another silly misconce...</td>\n",
       "    </tr>\n",
       "  </tbody>\n",
       "</table>\n",
       "</div>"
      ],
      "text/plain": [
       "   type                                              posts\n",
       "0  INFJ  'http://www.youtube.com/watch?v=qsXHcwe3krw|||...\n",
       "1  ENTP  'I'm finding the lack of me in these posts ver...\n",
       "2  INTP  'Good one  _____   https://www.youtube.com/wat...\n",
       "3  INTJ  'Dear INTP,   I enjoyed our conversation the o...\n",
       "4  ENTJ  'You're fired.|||That's another silly misconce..."
      ]
     },
     "execution_count": 3,
     "metadata": {},
     "output_type": "execute_result"
    }
   ],
   "source": [
    "df = pd.read_csv(\"mbti_1.csv\")\n",
    "df.head()"
   ]
  },
  {
   "cell_type": "code",
   "execution_count": 4,
   "id": "9433ccf4",
   "metadata": {},
   "outputs": [
    {
     "name": "stdout",
     "output_type": "stream",
     "text": [
      "<class 'pandas.core.frame.DataFrame'>\n",
      "RangeIndex: 8675 entries, 0 to 8674\n",
      "Data columns (total 2 columns):\n",
      " #   Column  Non-Null Count  Dtype \n",
      "---  ------  --------------  ----- \n",
      " 0   type    8675 non-null   object\n",
      " 1   posts   8675 non-null   object\n",
      "dtypes: object(2)\n",
      "memory usage: 135.7+ KB\n"
     ]
    }
   ],
   "source": [
    "df.info()"
   ]
  },
  {
   "cell_type": "code",
   "execution_count": 5,
   "id": "1c1d732a",
   "metadata": {},
   "outputs": [],
   "source": [
    "df[\"single_posts\"] = df.posts.apply(lambda x: np.random.choice(x.split(\"|||\")))"
   ]
  },
  {
   "cell_type": "code",
   "execution_count": 6,
   "id": "f6fda083",
   "metadata": {},
   "outputs": [
    {
     "data": {
      "text/plain": [
       "8675"
      ]
     },
     "execution_count": 6,
     "metadata": {},
     "output_type": "execute_result"
    }
   ],
   "source": [
    "posts = df.single_posts\n",
    "len(posts)"
   ]
  },
  {
   "cell_type": "code",
   "execution_count": 7,
   "id": "418a5a2f",
   "metadata": {},
   "outputs": [],
   "source": [
    "df2 = df.loc[:, [\"type\", \"single_posts\"]]\n",
    "# del df\n",
    "# gc.collect()"
   ]
  },
  {
   "cell_type": "markdown",
   "id": "60b2fa9c",
   "metadata": {},
   "source": [
    "Clean Data using lambda"
   ]
  },
  {
   "cell_type": "code",
   "execution_count": 8,
   "id": "d3c48516",
   "metadata": {},
   "outputs": [
    {
     "data": {
      "text/plain": [
       "0     basically come up with three items you ve dete...\n",
       "1      d i m a nightowl  i wake up between    pm and...\n",
       "2     oh  i didn t know that   what a pity   why not...\n",
       "3     just stab in the dark here  i don t think that...\n",
       "4                           what s this we thing about \n",
       "5                                                      \n",
       "6     mental health is such a in thing nowadays a lo...\n",
       "7     what do you mean by humanities  i like to thin...\n",
       "8     frustration got the best of me today  and has ...\n",
       "9     i cannot remember the last time i was this att...\n",
       "10    i think the trade i m talking about is an se d...\n",
       "11          https   www youtube com watch v plaaikvhvzs\n",
       "12                                   some sort of isxx \n",
       "13    i agree with chanteuse  personally  it would d...\n",
       "14    i m not sure about social protocol in the area...\n",
       "15    my intuition usually allows me to remember suc...\n",
       "16    roughly     of my friends that know their type...\n",
       "17    i knew a guy that was homeless  he was one of ...\n",
       "18    looks like this has already been explained  an...\n",
       "19    in intpese  that means  i am in heart rending ...\n",
       "20    people misinterpreting fe for te somehow   if ...\n",
       "21    the summing up by w  somerset maugham  it s an...\n",
       "22    have you tried telling him that it is extremel...\n",
       "23    puppy thesmalldogbreeds jpg  but look at those...\n",
       "24    i always enjoy coming to the gym right after t...\n",
       "25    personally  i don t want astrology  numerology...\n",
       "26    i m     exactly  so the     pounds do show up ...\n",
       "27                       agree with jimmers  but i m   \n",
       "28    hey   i think that when it comes to dealing wi...\n",
       "29    i have  in recent years  begun to suspect that...\n",
       "Name: clean_text, dtype: object"
      ]
     },
     "execution_count": 8,
     "metadata": {},
     "output_type": "execute_result"
    }
   ],
   "source": [
    "df2['clean_text'] = (df2['single_posts'].apply(lambda x: re.sub('[^a-zA-Z]', ' ', x).lower()))\n",
    "df2.clean_text.head(30)"
   ]
  },
  {
   "cell_type": "code",
   "execution_count": 9,
   "id": "68e2a697",
   "metadata": {},
   "outputs": [
    {
     "name": "stdout",
     "output_type": "stream",
     "text": [
      "<class 'pandas.core.frame.DataFrame'>\n",
      "RangeIndex: 8675 entries, 0 to 8674\n",
      "Data columns (total 3 columns):\n",
      " #   Column        Non-Null Count  Dtype \n",
      "---  ------        --------------  ----- \n",
      " 0   type          8675 non-null   object\n",
      " 1   single_posts  8675 non-null   object\n",
      " 2   clean_text    8675 non-null   object\n",
      "dtypes: object(3)\n",
      "memory usage: 203.4+ KB\n"
     ]
    }
   ],
   "source": [
    "df2.info()"
   ]
  },
  {
   "cell_type": "code",
   "execution_count": 10,
   "id": "6ee1ff0d",
   "metadata": {},
   "outputs": [],
   "source": [
    "tokens = nlp(''.join(str(df2.clean_text.tolist())))"
   ]
  },
  {
   "cell_type": "code",
   "execution_count": 11,
   "id": "23e69653",
   "metadata": {},
   "outputs": [
    {
     "data": {
      "text/plain": [
       "297048"
      ]
     },
     "execution_count": 11,
     "metadata": {},
     "output_type": "execute_result"
    }
   ],
   "source": [
    "len(tokens)"
   ]
  },
  {
   "cell_type": "code",
   "execution_count": 12,
   "id": "fbc0d9c1",
   "metadata": {},
   "outputs": [],
   "source": [
    "from spacy.lang.en.stop_words import STOP_WORDS"
   ]
  },
  {
   "cell_type": "code",
   "execution_count": 13,
   "id": "82956032",
   "metadata": {},
   "outputs": [],
   "source": [
    "stopwords = nlp.Defaults.stop_words\n"
   ]
  },
  {
   "cell_type": "code",
   "execution_count": 14,
   "id": "6f3b67a8",
   "metadata": {
    "scrolled": true
   },
   "outputs": [],
   "source": [
    "tokens2= [word for word in tokens if not word in stopwords]"
   ]
  },
  {
   "cell_type": "code",
   "execution_count": 15,
   "id": "96256920",
   "metadata": {},
   "outputs": [
    {
     "data": {
      "text/plain": [
       "[(' ', 20425),\n",
       " (\"'\", 17305),\n",
       " ('i', 13049),\n",
       " ('  ', 9463),\n",
       " (',', 8674),\n",
       " ('the', 6289),\n",
       " ('to', 6102),\n",
       " ('a', 5049),\n",
       " ('and', 4960),\n",
       " ('you', 3890),\n",
       " ('of', 3732),\n",
       " ('it', 3725),\n",
       " ('that', 3385),\n",
       " ('is', 2822),\n",
       " ('in', 2779),\n",
       " ('my', 2648),\n",
       " ('   ', 2457),\n",
       " ('t', 2275),\n",
       " ('s', 2275),\n",
       " ('but', 1904)]"
      ]
     },
     "execution_count": 15,
     "metadata": {},
     "output_type": "execute_result"
    }
   ],
   "source": [
    "items = [x.text for x in tokens2]\n",
    "Counter(items).most_common(20)"
   ]
  },
  {
   "cell_type": "code",
   "execution_count": 16,
   "id": "94ac0c37",
   "metadata": {},
   "outputs": [],
   "source": [
    "MBTI_types = ['INFJ', 'ENTP', 'INTP', 'INTJ', 'ENTJ', 'ENFJ', 'INFP', 'ENFP',\n",
    "              'ISFP', 'ISTP', 'ISFJ', 'ISTJ', 'ESTP', 'ESFP', 'ESTJ', 'ESFJ',\n",
    "              'MBTI']\n",
    "MBTI_types = [ti.lower() for ti in MBTI_types] + [ti.lower() + 's' for ti in MBTI_types]"
   ]
  },
  {
   "cell_type": "code",
   "execution_count": 17,
   "id": "ee3290e2",
   "metadata": {},
   "outputs": [],
   "source": [
    "words = [ti for ti in tokens2 if not ti.like_num]\n",
    "words = [ti for ti in tokens2 if not ti.like_url]\n",
    "words = [ti for ti in tokens2 if not ti.like_email]\n",
    "words = [ti for ti in tokens2 if ti.lower_ not in MBTI_types]"
   ]
  },
  {
   "cell_type": "code",
   "execution_count": 18,
   "id": "897a358f",
   "metadata": {},
   "outputs": [],
   "source": [
    "words = [token.lemma_ for token in tokens2\n",
    "            if not token.is_stop and not token.is_punct and not token.is_space]"
   ]
  },
  {
   "cell_type": "code",
   "execution_count": 19,
   "id": "754c5efa",
   "metadata": {},
   "outputs": [
    {
     "data": {
      "text/plain": [
       "[('like', 1522),\n",
       " ('think', 1304),\n",
       " ('don', 1007),\n",
       " ('people', 985),\n",
       " ('know', 917),\n",
       " ('thing', 744),\n",
       " ('feel', 701),\n",
       " ('good', 677),\n",
       " ('time', 646),\n",
       " ('type', 542),\n",
       " ('want', 539),\n",
       " ('love', 499),\n",
       " ('com', 497),\n",
       " ('watch', 448),\n",
       " ('find', 444),\n",
       " ('friend', 439),\n",
       " ('way', 415),\n",
       " ('try', 414),\n",
       " ('lot', 389),\n",
       " ('get', 375)]"
      ]
     },
     "execution_count": 19,
     "metadata": {},
     "output_type": "execute_result"
    }
   ],
   "source": [
    "items2 = [x for x in words if len(x)>2]\n",
    "Counter(items2).most_common(20)"
   ]
  },
  {
   "cell_type": "code",
   "execution_count": 20,
   "id": "7bde36e8",
   "metadata": {},
   "outputs": [
    {
     "data": {
      "text/plain": [
       "93532"
      ]
     },
     "execution_count": 20,
     "metadata": {},
     "output_type": "execute_result"
    }
   ],
   "source": [
    "len(items2)"
   ]
  },
  {
   "cell_type": "code",
   "execution_count": 21,
   "id": "db9821b5",
   "metadata": {},
   "outputs": [],
   "source": [
    "from sklearn.feature_extraction.text import TfidfVectorizer\n",
    "\n",
    "tf=TfidfVectorizer()\n",
    "text_tf= tf.fit_transform(items2)"
   ]
  },
  {
   "cell_type": "code",
   "execution_count": 22,
   "id": "e90360d3",
   "metadata": {},
   "outputs": [],
   "source": [
    "tf_df2 = pd.DataFrame(text_tf.toarray(), columns=tf.get_feature_names())"
   ]
  },
  {
   "cell_type": "code",
   "execution_count": 23,
   "id": "dbb88e73",
   "metadata": {},
   "outputs": [],
   "source": [
    "sentiments = [((TextBlob(phrase).sentiment.polarity)) for phrase in items2 ]\n",
    "\n",
    "tf_df2[\"Sentiment\"] = sentiments"
   ]
  },
  {
   "cell_type": "code",
   "execution_count": 24,
   "id": "9cc08c84",
   "metadata": {},
   "outputs": [
    {
     "data": {
      "text/html": [
       "<div>\n",
       "<style scoped>\n",
       "    .dataframe tbody tr th:only-of-type {\n",
       "        vertical-align: middle;\n",
       "    }\n",
       "\n",
       "    .dataframe tbody tr th {\n",
       "        vertical-align: top;\n",
       "    }\n",
       "\n",
       "    .dataframe thead th {\n",
       "        text-align: right;\n",
       "    }\n",
       "</style>\n",
       "<table border=\"1\" class=\"dataframe\">\n",
       "  <thead>\n",
       "    <tr style=\"text-align: right;\">\n",
       "      <th></th>\n",
       "      <th>aaaa</th>\n",
       "      <th>aaaaaaaaa</th>\n",
       "      <th>aaaaaaaaaarrgggh</th>\n",
       "      <th>aaaaaaaaacw</th>\n",
       "      <th>aaaaaaaaaie</th>\n",
       "      <th>aaaaaaaabwq</th>\n",
       "      <th>aaaaaaaafug</th>\n",
       "      <th>aaaaaand</th>\n",
       "      <th>aaaah</th>\n",
       "      <th>aaah</th>\n",
       "      <th>...</th>\n",
       "      <th>zun</th>\n",
       "      <th>zuqk</th>\n",
       "      <th>zww</th>\n",
       "      <th>zwxs</th>\n",
       "      <th>zxkbd</th>\n",
       "      <th>zyjl</th>\n",
       "      <th>zylinder</th>\n",
       "      <th>zzlvav</th>\n",
       "      <th>zzzzz</th>\n",
       "      <th>Sentiment</th>\n",
       "    </tr>\n",
       "  </thead>\n",
       "  <tbody>\n",
       "    <tr>\n",
       "      <th>0</th>\n",
       "      <td>0.0</td>\n",
       "      <td>0.0</td>\n",
       "      <td>0.0</td>\n",
       "      <td>0.0</td>\n",
       "      <td>0.0</td>\n",
       "      <td>0.0</td>\n",
       "      <td>0.0</td>\n",
       "      <td>0.0</td>\n",
       "      <td>0.0</td>\n",
       "      <td>0.0</td>\n",
       "      <td>...</td>\n",
       "      <td>0.0</td>\n",
       "      <td>0.0</td>\n",
       "      <td>0.0</td>\n",
       "      <td>0.0</td>\n",
       "      <td>0.0</td>\n",
       "      <td>0.0</td>\n",
       "      <td>0.0</td>\n",
       "      <td>0.0</td>\n",
       "      <td>0.0</td>\n",
       "      <td>0.0</td>\n",
       "    </tr>\n",
       "    <tr>\n",
       "      <th>1</th>\n",
       "      <td>0.0</td>\n",
       "      <td>0.0</td>\n",
       "      <td>0.0</td>\n",
       "      <td>0.0</td>\n",
       "      <td>0.0</td>\n",
       "      <td>0.0</td>\n",
       "      <td>0.0</td>\n",
       "      <td>0.0</td>\n",
       "      <td>0.0</td>\n",
       "      <td>0.0</td>\n",
       "      <td>...</td>\n",
       "      <td>0.0</td>\n",
       "      <td>0.0</td>\n",
       "      <td>0.0</td>\n",
       "      <td>0.0</td>\n",
       "      <td>0.0</td>\n",
       "      <td>0.0</td>\n",
       "      <td>0.0</td>\n",
       "      <td>0.0</td>\n",
       "      <td>0.0</td>\n",
       "      <td>0.0</td>\n",
       "    </tr>\n",
       "    <tr>\n",
       "      <th>2</th>\n",
       "      <td>0.0</td>\n",
       "      <td>0.0</td>\n",
       "      <td>0.0</td>\n",
       "      <td>0.0</td>\n",
       "      <td>0.0</td>\n",
       "      <td>0.0</td>\n",
       "      <td>0.0</td>\n",
       "      <td>0.0</td>\n",
       "      <td>0.0</td>\n",
       "      <td>0.0</td>\n",
       "      <td>...</td>\n",
       "      <td>0.0</td>\n",
       "      <td>0.0</td>\n",
       "      <td>0.0</td>\n",
       "      <td>0.0</td>\n",
       "      <td>0.0</td>\n",
       "      <td>0.0</td>\n",
       "      <td>0.0</td>\n",
       "      <td>0.0</td>\n",
       "      <td>0.0</td>\n",
       "      <td>0.0</td>\n",
       "    </tr>\n",
       "    <tr>\n",
       "      <th>3</th>\n",
       "      <td>0.0</td>\n",
       "      <td>0.0</td>\n",
       "      <td>0.0</td>\n",
       "      <td>0.0</td>\n",
       "      <td>0.0</td>\n",
       "      <td>0.0</td>\n",
       "      <td>0.0</td>\n",
       "      <td>0.0</td>\n",
       "      <td>0.0</td>\n",
       "      <td>0.0</td>\n",
       "      <td>...</td>\n",
       "      <td>0.0</td>\n",
       "      <td>0.0</td>\n",
       "      <td>0.0</td>\n",
       "      <td>0.0</td>\n",
       "      <td>0.0</td>\n",
       "      <td>0.0</td>\n",
       "      <td>0.0</td>\n",
       "      <td>0.0</td>\n",
       "      <td>0.0</td>\n",
       "      <td>0.0</td>\n",
       "    </tr>\n",
       "    <tr>\n",
       "      <th>4</th>\n",
       "      <td>0.0</td>\n",
       "      <td>0.0</td>\n",
       "      <td>0.0</td>\n",
       "      <td>0.0</td>\n",
       "      <td>0.0</td>\n",
       "      <td>0.0</td>\n",
       "      <td>0.0</td>\n",
       "      <td>0.0</td>\n",
       "      <td>0.0</td>\n",
       "      <td>0.0</td>\n",
       "      <td>...</td>\n",
       "      <td>0.0</td>\n",
       "      <td>0.0</td>\n",
       "      <td>0.0</td>\n",
       "      <td>0.0</td>\n",
       "      <td>0.0</td>\n",
       "      <td>0.0</td>\n",
       "      <td>0.0</td>\n",
       "      <td>0.0</td>\n",
       "      <td>0.0</td>\n",
       "      <td>0.0</td>\n",
       "    </tr>\n",
       "  </tbody>\n",
       "</table>\n",
       "<p>5 rows × 12182 columns</p>\n",
       "</div>"
      ],
      "text/plain": [
       "   aaaa  aaaaaaaaa  aaaaaaaaaarrgggh  aaaaaaaaacw  aaaaaaaaaie  aaaaaaaabwq  \\\n",
       "0   0.0        0.0               0.0          0.0          0.0          0.0   \n",
       "1   0.0        0.0               0.0          0.0          0.0          0.0   \n",
       "2   0.0        0.0               0.0          0.0          0.0          0.0   \n",
       "3   0.0        0.0               0.0          0.0          0.0          0.0   \n",
       "4   0.0        0.0               0.0          0.0          0.0          0.0   \n",
       "\n",
       "   aaaaaaaafug  aaaaaand  aaaah  aaah  ...  zun  zuqk  zww  zwxs  zxkbd  zyjl  \\\n",
       "0          0.0       0.0    0.0   0.0  ...  0.0   0.0  0.0   0.0    0.0   0.0   \n",
       "1          0.0       0.0    0.0   0.0  ...  0.0   0.0  0.0   0.0    0.0   0.0   \n",
       "2          0.0       0.0    0.0   0.0  ...  0.0   0.0  0.0   0.0    0.0   0.0   \n",
       "3          0.0       0.0    0.0   0.0  ...  0.0   0.0  0.0   0.0    0.0   0.0   \n",
       "4          0.0       0.0    0.0   0.0  ...  0.0   0.0  0.0   0.0    0.0   0.0   \n",
       "\n",
       "   zylinder  zzlvav  zzzzz  Sentiment  \n",
       "0       0.0     0.0    0.0        0.0  \n",
       "1       0.0     0.0    0.0        0.0  \n",
       "2       0.0     0.0    0.0        0.0  \n",
       "3       0.0     0.0    0.0        0.0  \n",
       "4       0.0     0.0    0.0        0.0  \n",
       "\n",
       "[5 rows x 12182 columns]"
      ]
     },
     "execution_count": 24,
     "metadata": {},
     "output_type": "execute_result"
    }
   ],
   "source": [
    "tf_df2.head()"
   ]
  },
  {
   "cell_type": "code",
   "execution_count": 25,
   "id": "969e4ec5",
   "metadata": {},
   "outputs": [
    {
     "data": {
      "text/plain": [
       "(93532, 12182)"
      ]
     },
     "execution_count": 25,
     "metadata": {},
     "output_type": "execute_result"
    }
   ],
   "source": [
    "tf_df2.shape"
   ]
  },
  {
   "cell_type": "code",
   "execution_count": 26,
   "id": "be7b35e6",
   "metadata": {},
   "outputs": [
    {
     "data": {
      "text/plain": [
       "count    93532.000000\n",
       "mean         0.020616\n",
       "std          0.182925\n",
       "min         -1.000000\n",
       "25%          0.000000\n",
       "50%          0.000000\n",
       "75%          0.000000\n",
       "max          1.000000\n",
       "Name: Sentiment, dtype: float64"
      ]
     },
     "execution_count": 26,
     "metadata": {},
     "output_type": "execute_result"
    }
   ],
   "source": [
    "tf_df2.Sentiment.describe()"
   ]
  },
  {
   "cell_type": "code",
   "execution_count": 27,
   "id": "61f29980",
   "metadata": {},
   "outputs": [],
   "source": [
    "tf_df2[\"_target\"] = df2[\"type\"]"
   ]
  },
  {
   "cell_type": "code",
   "execution_count": 28,
   "id": "d44a7214",
   "metadata": {
    "scrolled": true
   },
   "outputs": [
    {
     "data": {
      "text/html": [
       "<div>\n",
       "<style scoped>\n",
       "    .dataframe tbody tr th:only-of-type {\n",
       "        vertical-align: middle;\n",
       "    }\n",
       "\n",
       "    .dataframe tbody tr th {\n",
       "        vertical-align: top;\n",
       "    }\n",
       "\n",
       "    .dataframe thead th {\n",
       "        text-align: right;\n",
       "    }\n",
       "</style>\n",
       "<table border=\"1\" class=\"dataframe\">\n",
       "  <thead>\n",
       "    <tr style=\"text-align: right;\">\n",
       "      <th></th>\n",
       "      <th>aaaa</th>\n",
       "      <th>aaaaaaaaa</th>\n",
       "      <th>aaaaaaaaaarrgggh</th>\n",
       "      <th>aaaaaaaaacw</th>\n",
       "      <th>aaaaaaaaaie</th>\n",
       "      <th>aaaaaaaabwq</th>\n",
       "      <th>aaaaaaaafug</th>\n",
       "      <th>aaaaaand</th>\n",
       "      <th>aaaah</th>\n",
       "      <th>aaah</th>\n",
       "      <th>...</th>\n",
       "      <th>zuqk</th>\n",
       "      <th>zww</th>\n",
       "      <th>zwxs</th>\n",
       "      <th>zxkbd</th>\n",
       "      <th>zyjl</th>\n",
       "      <th>zylinder</th>\n",
       "      <th>zzlvav</th>\n",
       "      <th>zzzzz</th>\n",
       "      <th>Sentiment</th>\n",
       "      <th>_target</th>\n",
       "    </tr>\n",
       "  </thead>\n",
       "  <tbody>\n",
       "    <tr>\n",
       "      <th>0</th>\n",
       "      <td>0.0</td>\n",
       "      <td>0.0</td>\n",
       "      <td>0.0</td>\n",
       "      <td>0.0</td>\n",
       "      <td>0.0</td>\n",
       "      <td>0.0</td>\n",
       "      <td>0.0</td>\n",
       "      <td>0.0</td>\n",
       "      <td>0.0</td>\n",
       "      <td>0.0</td>\n",
       "      <td>...</td>\n",
       "      <td>0.0</td>\n",
       "      <td>0.0</td>\n",
       "      <td>0.0</td>\n",
       "      <td>0.0</td>\n",
       "      <td>0.0</td>\n",
       "      <td>0.0</td>\n",
       "      <td>0.0</td>\n",
       "      <td>0.0</td>\n",
       "      <td>0.0</td>\n",
       "      <td>INFJ</td>\n",
       "    </tr>\n",
       "    <tr>\n",
       "      <th>1</th>\n",
       "      <td>0.0</td>\n",
       "      <td>0.0</td>\n",
       "      <td>0.0</td>\n",
       "      <td>0.0</td>\n",
       "      <td>0.0</td>\n",
       "      <td>0.0</td>\n",
       "      <td>0.0</td>\n",
       "      <td>0.0</td>\n",
       "      <td>0.0</td>\n",
       "      <td>0.0</td>\n",
       "      <td>...</td>\n",
       "      <td>0.0</td>\n",
       "      <td>0.0</td>\n",
       "      <td>0.0</td>\n",
       "      <td>0.0</td>\n",
       "      <td>0.0</td>\n",
       "      <td>0.0</td>\n",
       "      <td>0.0</td>\n",
       "      <td>0.0</td>\n",
       "      <td>0.0</td>\n",
       "      <td>ENTP</td>\n",
       "    </tr>\n",
       "    <tr>\n",
       "      <th>2</th>\n",
       "      <td>0.0</td>\n",
       "      <td>0.0</td>\n",
       "      <td>0.0</td>\n",
       "      <td>0.0</td>\n",
       "      <td>0.0</td>\n",
       "      <td>0.0</td>\n",
       "      <td>0.0</td>\n",
       "      <td>0.0</td>\n",
       "      <td>0.0</td>\n",
       "      <td>0.0</td>\n",
       "      <td>...</td>\n",
       "      <td>0.0</td>\n",
       "      <td>0.0</td>\n",
       "      <td>0.0</td>\n",
       "      <td>0.0</td>\n",
       "      <td>0.0</td>\n",
       "      <td>0.0</td>\n",
       "      <td>0.0</td>\n",
       "      <td>0.0</td>\n",
       "      <td>0.0</td>\n",
       "      <td>INTP</td>\n",
       "    </tr>\n",
       "    <tr>\n",
       "      <th>3</th>\n",
       "      <td>0.0</td>\n",
       "      <td>0.0</td>\n",
       "      <td>0.0</td>\n",
       "      <td>0.0</td>\n",
       "      <td>0.0</td>\n",
       "      <td>0.0</td>\n",
       "      <td>0.0</td>\n",
       "      <td>0.0</td>\n",
       "      <td>0.0</td>\n",
       "      <td>0.0</td>\n",
       "      <td>...</td>\n",
       "      <td>0.0</td>\n",
       "      <td>0.0</td>\n",
       "      <td>0.0</td>\n",
       "      <td>0.0</td>\n",
       "      <td>0.0</td>\n",
       "      <td>0.0</td>\n",
       "      <td>0.0</td>\n",
       "      <td>0.0</td>\n",
       "      <td>0.0</td>\n",
       "      <td>INTJ</td>\n",
       "    </tr>\n",
       "    <tr>\n",
       "      <th>4</th>\n",
       "      <td>0.0</td>\n",
       "      <td>0.0</td>\n",
       "      <td>0.0</td>\n",
       "      <td>0.0</td>\n",
       "      <td>0.0</td>\n",
       "      <td>0.0</td>\n",
       "      <td>0.0</td>\n",
       "      <td>0.0</td>\n",
       "      <td>0.0</td>\n",
       "      <td>0.0</td>\n",
       "      <td>...</td>\n",
       "      <td>0.0</td>\n",
       "      <td>0.0</td>\n",
       "      <td>0.0</td>\n",
       "      <td>0.0</td>\n",
       "      <td>0.0</td>\n",
       "      <td>0.0</td>\n",
       "      <td>0.0</td>\n",
       "      <td>0.0</td>\n",
       "      <td>0.0</td>\n",
       "      <td>ENTJ</td>\n",
       "    </tr>\n",
       "  </tbody>\n",
       "</table>\n",
       "<p>5 rows × 12183 columns</p>\n",
       "</div>"
      ],
      "text/plain": [
       "   aaaa  aaaaaaaaa  aaaaaaaaaarrgggh  aaaaaaaaacw  aaaaaaaaaie  aaaaaaaabwq  \\\n",
       "0   0.0        0.0               0.0          0.0          0.0          0.0   \n",
       "1   0.0        0.0               0.0          0.0          0.0          0.0   \n",
       "2   0.0        0.0               0.0          0.0          0.0          0.0   \n",
       "3   0.0        0.0               0.0          0.0          0.0          0.0   \n",
       "4   0.0        0.0               0.0          0.0          0.0          0.0   \n",
       "\n",
       "   aaaaaaaafug  aaaaaand  aaaah  aaah  ...  zuqk  zww  zwxs  zxkbd  zyjl  \\\n",
       "0          0.0       0.0    0.0   0.0  ...   0.0  0.0   0.0    0.0   0.0   \n",
       "1          0.0       0.0    0.0   0.0  ...   0.0  0.0   0.0    0.0   0.0   \n",
       "2          0.0       0.0    0.0   0.0  ...   0.0  0.0   0.0    0.0   0.0   \n",
       "3          0.0       0.0    0.0   0.0  ...   0.0  0.0   0.0    0.0   0.0   \n",
       "4          0.0       0.0    0.0   0.0  ...   0.0  0.0   0.0    0.0   0.0   \n",
       "\n",
       "   zylinder  zzlvav  zzzzz  Sentiment  _target  \n",
       "0       0.0     0.0    0.0        0.0     INFJ  \n",
       "1       0.0     0.0    0.0        0.0     ENTP  \n",
       "2       0.0     0.0    0.0        0.0     INTP  \n",
       "3       0.0     0.0    0.0        0.0     INTJ  \n",
       "4       0.0     0.0    0.0        0.0     ENTJ  \n",
       "\n",
       "[5 rows x 12183 columns]"
      ]
     },
     "execution_count": 28,
     "metadata": {},
     "output_type": "execute_result"
    }
   ],
   "source": [
    "tf_df2.head()"
   ]
  },
  {
   "cell_type": "code",
   "execution_count": null,
   "id": "76137e9a",
   "metadata": {},
   "outputs": [],
   "source": [
    "tf_df2.to_json('tf_df2.json', orient='records')"
   ]
  },
  {
   "cell_type": "code",
   "execution_count": null,
   "id": "a84c760f",
   "metadata": {
    "scrolled": true
   },
   "outputs": [],
   "source": []
  },
  {
   "cell_type": "code",
   "execution_count": null,
   "id": "a981b0cb",
   "metadata": {},
   "outputs": [],
   "source": []
  },
  {
   "cell_type": "code",
   "execution_count": null,
   "id": "50985e7d",
   "metadata": {},
   "outputs": [],
   "source": []
  },
  {
   "cell_type": "code",
   "execution_count": null,
   "id": "381a751b",
   "metadata": {},
   "outputs": [],
   "source": []
  }
 ],
 "metadata": {
  "kernelspec": {
   "display_name": "Python 3",
   "language": "python",
   "name": "python3"
  },
  "language_info": {
   "codemirror_mode": {
    "name": "ipython",
    "version": 3
   },
   "file_extension": ".py",
   "mimetype": "text/x-python",
   "name": "python",
   "nbconvert_exporter": "python",
   "pygments_lexer": "ipython3",
   "version": "3.8.8"
  }
 },
 "nbformat": 4,
 "nbformat_minor": 5
}
